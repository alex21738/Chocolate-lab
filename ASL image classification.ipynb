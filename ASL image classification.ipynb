{
 "cells": [
  {
   "cell_type": "code",
   "execution_count": 1,
   "metadata": {},
   "outputs": [
    {
     "name": "stderr",
     "output_type": "stream",
     "text": [
      "Using TensorFlow backend.\n"
     ]
    }
   ],
   "source": [
    "import pandas as pd\n",
    "import numpy as np\n",
    "import matplotlib.pyplot as plt\n",
    "from sklearn.model_selection import train_test_split\n",
    "from sklearn.preprocessing import LabelBinarizer\n",
    "from keras import models\n",
    "from keras import layers\n",
    "from keras import regularizers\n",
    "\n",
    "import keras\n",
    "from keras.datasets import mnist\n",
    "from keras.models import Sequential\n",
    "from keras.layers import Dense, Dropout\n",
    "from keras.optimizers import RMSprop, Adam, SGD\n"
   ]
  },
  {
   "cell_type": "markdown",
   "metadata": {},
   "source": [
    "# Import data and clean"
   ]
  },
  {
   "cell_type": "code",
   "execution_count": 2,
   "metadata": {},
   "outputs": [],
   "source": [
    "#  data is from kaggle - https://www.kaggle.com/datamunge/sign-language-mnist\n",
    "testdf=pd.read_csv('sign_mnist_test.csv')\n",
    "traindf=pd.read_csv('sign_mnist_train.csv')"
   ]
  },
  {
   "cell_type": "code",
   "execution_count": null,
   "metadata": {},
   "outputs": [],
   "source": [
    "traindf.shape, traindf.head()"
   ]
  },
  {
   "cell_type": "code",
   "execution_count": null,
   "metadata": {},
   "outputs": [],
   "source": [
    "pd.DataFrame(traindf)"
   ]
  },
  {
   "cell_type": "code",
   "execution_count": null,
   "metadata": {},
   "outputs": [],
   "source": [
    "testdf.shape, testdf.head()"
   ]
  },
  {
   "cell_type": "code",
   "execution_count": 3,
   "metadata": {
    "scrolled": true
   },
   "outputs": [
    {
     "data": {
      "text/plain": [
       "((27455, 784), 0     3\n",
       " 1     6\n",
       " 2     2\n",
       " 3     2\n",
       " 4    13\n",
       " Name: label, dtype: int64)"
      ]
     },
     "execution_count": 3,
     "metadata": {},
     "output_type": "execute_result"
    }
   ],
   "source": [
    "# create training labels\n",
    "labelstr = traindf['label']\n",
    "traindf.drop(columns =['label'], inplace = True)\n",
    "traindf.shape, labelstr.head()"
   ]
  },
  {
   "cell_type": "code",
   "execution_count": 4,
   "metadata": {},
   "outputs": [
    {
     "data": {
      "text/plain": [
       "((7172, 784), 0     6\n",
       " 1     5\n",
       " 2    10\n",
       " 3     0\n",
       " 4     3\n",
       " Name: label, dtype: int64)"
      ]
     },
     "execution_count": 4,
     "metadata": {},
     "output_type": "execute_result"
    }
   ],
   "source": [
    "# create testing labels\n",
    "\n",
    "labelstt = testdf['label']\n",
    "testdf.drop(columns =['label'], inplace = True)\n",
    "testdf.shape, labelstt.head()"
   ]
  },
  {
   "cell_type": "code",
   "execution_count": null,
   "metadata": {
    "scrolled": false
   },
   "outputs": [],
   "source": [
    "# no 9(J) or 25(Z)\n",
    "labelstr.value_counts()"
   ]
  },
  {
   "cell_type": "code",
   "execution_count": 5,
   "metadata": {},
   "outputs": [],
   "source": [
    "# turn test csvs into matrix, flatten, standardize\n",
    "imagestest = testdf.values\n",
    "imagestest = np.array([np.reshape(i, (28, 28)) for i in imagestest])\n",
    "imagestest = np.array([i.flatten() for i in imagestest])\n",
    "imagestest = imagestest/255"
   ]
  },
  {
   "cell_type": "code",
   "execution_count": 6,
   "metadata": {},
   "outputs": [],
   "source": [
    "# turn train csvs into matrix, flatten, standardize\n",
    "images = traindf.values\n",
    "images = np.array([np.reshape(i, (28, 28)) for i in images])\n",
    "images = np.array([i.flatten() for i in images])\n",
    "images = images/255"
   ]
  },
  {
   "cell_type": "code",
   "execution_count": null,
   "metadata": {},
   "outputs": [],
   "source": [
    "plt.imshow(images[0].reshape(28,28))"
   ]
  },
  {
   "cell_type": "code",
   "execution_count": null,
   "metadata": {},
   "outputs": [],
   "source": [
    "labelstr[0]"
   ]
  },
  {
   "cell_type": "code",
   "execution_count": 7,
   "metadata": {},
   "outputs": [],
   "source": [
    "# train validate split\n",
    "image_train, image_val, label_train, label_val = train_test_split(images, labelstr, random_state=23, train_size=.8)"
   ]
  },
  {
   "cell_type": "code",
   "execution_count": 8,
   "metadata": {},
   "outputs": [],
   "source": [
    "# turn labels into single row matrixes\n",
    "num_classes = 25\n",
    "label_train = keras.utils.to_categorical(label_train, num_classes)\n",
    "label_val = keras.utils.to_categorical(label_val, num_classes)\n",
    "labelstt = keras.utils.to_categorical(labelstt, num_classes)"
   ]
  },
  {
   "cell_type": "code",
   "execution_count": null,
   "metadata": {},
   "outputs": [],
   "source": [
    "def visualize_training_results(results):\n",
    "    history = results.history\n",
    "    plt.figure()\n",
    "    plt.plot(history['val_loss'])\n",
    "    plt.plot(history['loss'])\n",
    "    plt.legend(['val_loss', 'loss'])\n",
    "    plt.title('Loss')\n",
    "    plt.xlabel('Epochs')\n",
    "    plt.ylabel('Loss')\n",
    "    plt.show()\n",
    "    \n",
    "    plt.figure()\n",
    "    plt.plot(history['val_accuracy'])\n",
    "    plt.plot(history['accuracy'])\n",
    "    plt.legend(['val_accuracy', 'accuracy'])\n",
    "    plt.title('Accuracy')\n",
    "    plt.xlabel('Epochs')\n",
    "    plt.ylabel('Accuracy')\n",
    "    plt.show()"
   ]
  },
  {
   "cell_type": "markdown",
   "metadata": {},
   "source": [
    "#  MLP"
   ]
  },
  {
   "cell_type": "markdown",
   "metadata": {},
   "source": [
    "## Relu"
   ]
  },
  {
   "cell_type": "code",
   "execution_count": null,
   "metadata": {},
   "outputs": [],
   "source": [
    "model = models.Sequential()\n",
    "model.add(layers.Dense(30, activation='relu', input_shape=(784,)))\n",
    "model.add(layers.Dense(20, activation='relu'))\n",
    "model.add(layers.Dense(10, activation='relu'))\n",
    "model.add(layers.Dense(5, activation='relu'))\n",
    "model.add(layers.Dense(25, activation='sigmoid'))"
   ]
  },
  {
   "cell_type": "code",
   "execution_count": null,
   "metadata": {
    "scrolled": true
   },
   "outputs": [],
   "source": [
    "model.compile(optimizer ='sgd' ,loss='categorical_crossentropy',metrics=['accuracy'])\n",
    "\n",
    "histoire = model.fit(image_train,\n",
    "                    label_train,\n",
    "                    epochs=20,\n",
    "                    batch_size=32,\n",
    "                    validation_data=(image_val, label_val))"
   ]
  },
  {
   "cell_type": "code",
   "execution_count": null,
   "metadata": {
    "scrolled": true
   },
   "outputs": [],
   "source": [
    "visualize_training_results(histoire)"
   ]
  },
  {
   "cell_type": "code",
   "execution_count": null,
   "metadata": {},
   "outputs": [],
   "source": [
    "results_test1 = model.evaluate(imagestest, labelstt)"
   ]
  },
  {
   "cell_type": "code",
   "execution_count": null,
   "metadata": {},
   "outputs": [],
   "source": [
    "results_test1"
   ]
  },
  {
   "cell_type": "markdown",
   "metadata": {},
   "source": [
    "## Softmax"
   ]
  },
  {
   "cell_type": "code",
   "execution_count": null,
   "metadata": {},
   "outputs": [],
   "source": [
    "model2 = models.Sequential()\n",
    "model2.add(layers.Dense(80, activation='relu', input_shape=(784,)))\n",
    "model2.add(layers.Dense(40, activation='relu'))\n",
    "model2.add(layers.Dense(20, activation='relu'))\n",
    "model2.add(layers.Dense(10, activation='relu'))\n",
    "model2.add(layers.Dense(25, activation='softmax'))"
   ]
  },
  {
   "cell_type": "code",
   "execution_count": null,
   "metadata": {
    "scrolled": true
   },
   "outputs": [],
   "source": [
    "model2.compile(optimizer ='sgd' ,loss='categorical_crossentropy',metrics=['accuracy'])\n",
    "\n",
    "history = model2.fit(image_train,\n",
    "                    label_train,\n",
    "                    epochs=20,\n",
    "                    batch_size=32,\n",
    "                    validation_data=(image_val, label_val))"
   ]
  },
  {
   "cell_type": "code",
   "execution_count": null,
   "metadata": {
    "scrolled": true
   },
   "outputs": [],
   "source": [
    "visualize_training_results(history)"
   ]
  },
  {
   "cell_type": "code",
   "execution_count": null,
   "metadata": {},
   "outputs": [],
   "source": [
    "results_test2 = model2.evaluate(imagestest, labelstt)"
   ]
  },
  {
   "cell_type": "code",
   "execution_count": null,
   "metadata": {},
   "outputs": [],
   "source": [
    "results_test2"
   ]
  },
  {
   "cell_type": "markdown",
   "metadata": {},
   "source": [
    "### Hypertuning"
   ]
  },
  {
   "cell_type": "code",
   "execution_count": null,
   "metadata": {
    "scrolled": true
   },
   "outputs": [],
   "source": [
    "model3 = models.Sequential()\n",
    "model3.add(layers.Dense(80, activation='relu', input_shape=(784,)))\n",
    "model3.add(layers.Dense(40, activation='relu', kernel_regularizer=regularizers.l2(0.005),))\n",
    "model3.add(layers.Dense(20, activation='relu'))\n",
    "model3.add(layers.Dense(10, activation='relu'))\n",
    "model3.add(layers.Dense(25, activation='softmax'))\n",
    "\n",
    "model3.compile(optimizer ='sgd' ,loss='categorical_crossentropy',metrics=['accuracy'])\n",
    "\n",
    "history3 = model3.fit(image_train,\n",
    "                    label_train,\n",
    "                    epochs=20,\n",
    "                    batch_size=32,\n",
    "                    validation_data=(image_val, label_val))"
   ]
  },
  {
   "cell_type": "code",
   "execution_count": null,
   "metadata": {},
   "outputs": [],
   "source": [
    "results_test3 = model3.evaluate(imagestest, labelstt)"
   ]
  },
  {
   "cell_type": "code",
   "execution_count": null,
   "metadata": {},
   "outputs": [],
   "source": [
    "results_test3"
   ]
  },
  {
   "cell_type": "markdown",
   "metadata": {},
   "source": [
    "# CNN 2d"
   ]
  },
  {
   "cell_type": "code",
   "execution_count": 9,
   "metadata": {},
   "outputs": [],
   "source": [
    "image_train  = np.array([np.reshape(i, (28, 28,1)) for i in image_train])\n",
    "image_val  = np.array([np.reshape(i, (28, 28,1)) for i in image_val])\n",
    "imagestest  = np.array([np.reshape(i, (28, 28,1)) for i in imagestest])"
   ]
  },
  {
   "cell_type": "code",
   "execution_count": 33,
   "metadata": {},
   "outputs": [],
   "source": [
    "modelcnn = models.Sequential()\n",
    "modelcnn.add(layers.Conv2D(32, (3,3), activation='relu',\n",
    "                        input_shape=(28, 28,1)))\n",
    "modelcnn.add(layers.MaxPooling2D((2,2)))\n",
    "\n",
    "modelcnn.add(layers.Conv2D(64, (3,3), activation='relu'))\n",
    "modelcnn.add(layers.MaxPooling2D((2,2)))\n",
    "\n",
    "modelcnn.add(layers.Conv2D(128, (3,3), activation='relu'))\n",
    "modelcnn.add(layers.MaxPooling2D((2,2)))\n",
    "\n",
    "\n",
    "modelcnn.add(layers.Flatten())\n",
    "modelcnn.add(layers.Dense(64, activation='relu'))\n",
    "modelcnn.add(layers.Dropout(.1))\n",
    "\n",
    "modelcnn.add(layers.Dense(25, activation='softmax'))\n",
    "\n",
    "modelcnn.compile(loss='categorical_crossentropy',\n",
    "              optimizer=\"sgd\",\n",
    "              metrics=['accuracy'])"
   ]
  },
  {
   "cell_type": "code",
   "execution_count": 34,
   "metadata": {},
   "outputs": [
    {
     "name": "stdout",
     "output_type": "stream",
     "text": [
      "Train on 21964 samples, validate on 5491 samples\n",
      "Epoch 1/15\n",
      "21964/21964 [==============================] - 22s 1ms/step - loss: 3.2043 - accuracy: 0.0522 - val_loss: 3.1943 - val_accuracy: 0.0421\n",
      "Epoch 2/15\n",
      "21964/21964 [==============================] - 23s 1ms/step - loss: 3.1841 - accuracy: 0.0564 - val_loss: 3.1709 - val_accuracy: 0.0435\n",
      "Epoch 3/15\n",
      "21964/21964 [==============================] - 24s 1ms/step - loss: 3.1450 - accuracy: 0.0798 - val_loss: 3.0830 - val_accuracy: 0.1371\n",
      "Epoch 4/15\n",
      "21964/21964 [==============================] - 25s 1ms/step - loss: 2.8723 - accuracy: 0.1461 - val_loss: 2.5805 - val_accuracy: 0.1989\n",
      "Epoch 5/15\n",
      "21964/21964 [==============================] - 24s 1ms/step - loss: 2.3661 - accuracy: 0.2492 - val_loss: 2.0602 - val_accuracy: 0.3467\n",
      "Epoch 6/15\n",
      "21964/21964 [==============================] - 27s 1ms/step - loss: 1.8912 - accuracy: 0.3807 - val_loss: 1.6021 - val_accuracy: 0.5066\n",
      "Epoch 7/15\n",
      "21964/21964 [==============================] - 26s 1ms/step - loss: 1.4603 - accuracy: 0.5148 - val_loss: 1.1719 - val_accuracy: 0.6305\n",
      "Epoch 8/15\n",
      "21964/21964 [==============================] - 26s 1ms/step - loss: 1.0874 - accuracy: 0.6346 - val_loss: 0.8331 - val_accuracy: 0.7265\n",
      "Epoch 9/15\n",
      "21964/21964 [==============================] - 26s 1ms/step - loss: 0.7904 - accuracy: 0.7359 - val_loss: 0.8097 - val_accuracy: 0.7374\n",
      "Epoch 10/15\n",
      "21964/21964 [==============================] - 27s 1ms/step - loss: 0.5782 - accuracy: 0.8072 - val_loss: 0.4700 - val_accuracy: 0.8536\n",
      "Epoch 11/15\n",
      "21964/21964 [==============================] - 33s 1ms/step - loss: 0.4214 - accuracy: 0.8624 - val_loss: 0.3025 - val_accuracy: 0.9108\n",
      "Epoch 12/15\n",
      "21964/21964 [==============================] - 25s 1ms/step - loss: 0.3091 - accuracy: 0.9004 - val_loss: 0.2199 - val_accuracy: 0.9301\n",
      "Epoch 13/15\n",
      "21964/21964 [==============================] - 25s 1ms/step - loss: 0.2263 - accuracy: 0.9296 - val_loss: 0.1324 - val_accuracy: 0.9676\n",
      "Epoch 14/15\n",
      "21964/21964 [==============================] - 29s 1ms/step - loss: 0.1659 - accuracy: 0.9515 - val_loss: 0.0718 - val_accuracy: 0.9909\n",
      "Epoch 15/15\n",
      "21964/21964 [==============================] - 27s 1ms/step - loss: 0.1370 - accuracy: 0.9599 - val_loss: 0.0996 - val_accuracy: 0.9720\n"
     ]
    }
   ],
   "source": [
    "results = modelcnn.fit(image_train,\n",
    "                      label_train,\n",
    "                      epochs = 15,\n",
    "                      batch_size=32,\n",
    "                      validation_data=(image_val, label_val))"
   ]
  },
  {
   "cell_type": "code",
   "execution_count": 35,
   "metadata": {},
   "outputs": [
    {
     "name": "stdout",
     "output_type": "stream",
     "text": [
      "7172/7172 [==============================] - 2s 259us/step\n"
     ]
    }
   ],
   "source": [
    "results_testcnn = modelcnn.evaluate(imagestest, labelstt)"
   ]
  },
  {
   "cell_type": "code",
   "execution_count": 36,
   "metadata": {},
   "outputs": [
    {
     "data": {
      "text/plain": [
       "[0.5985108730442951, 0.8300334811210632]"
      ]
     },
     "execution_count": 36,
     "metadata": {},
     "output_type": "execute_result"
    }
   ],
   "source": [
    "results_testcnn"
   ]
  },
  {
   "cell_type": "code",
   "execution_count": 49,
   "metadata": {},
   "outputs": [
    {
     "name": "stdout",
     "output_type": "stream",
     "text": [
      "Model: \"sequential_2\"\n",
      "_________________________________________________________________\n",
      "Layer (type)                 Output Shape              Param #   \n",
      "=================================================================\n",
      "conv2d_4 (Conv2D)            (None, 26, 26, 32)        320       \n",
      "_________________________________________________________________\n",
      "max_pooling2d_4 (MaxPooling2 (None, 13, 13, 32)        0         \n",
      "_________________________________________________________________\n",
      "conv2d_5 (Conv2D)            (None, 11, 11, 64)        18496     \n",
      "_________________________________________________________________\n",
      "max_pooling2d_5 (MaxPooling2 (None, 5, 5, 64)          0         \n",
      "_________________________________________________________________\n",
      "conv2d_6 (Conv2D)            (None, 3, 3, 128)         73856     \n",
      "_________________________________________________________________\n",
      "max_pooling2d_6 (MaxPooling2 (None, 1, 1, 128)         0         \n",
      "_________________________________________________________________\n",
      "flatten_2 (Flatten)          (None, 128)               0         \n",
      "_________________________________________________________________\n",
      "dense_3 (Dense)              (None, 64)                8256      \n",
      "_________________________________________________________________\n",
      "dropout_2 (Dropout)          (None, 64)                0         \n",
      "_________________________________________________________________\n",
      "dense_4 (Dense)              (None, 25)                1625      \n",
      "=================================================================\n",
      "Total params: 102,553\n",
      "Trainable params: 102,553\n",
      "Non-trainable params: 0\n",
      "_________________________________________________________________\n"
     ]
    }
   ],
   "source": [
    "modelcnn.summary()"
   ]
  },
  {
   "cell_type": "markdown",
   "metadata": {},
   "source": [
    "# CNN"
   ]
  },
  {
   "cell_type": "code",
   "execution_count": null,
   "metadata": {},
   "outputs": [],
   "source": [
    "image_train  = np.array([np.reshape(i, (28, 28)) for i in image_train])\n",
    "image_val  = np.array([np.reshape(i, (28, 28)) for i in image_val])\n",
    "imagestest  = np.array([np.reshape(i, (28, 28)) for i in imagestest])"
   ]
  },
  {
   "cell_type": "code",
   "execution_count": null,
   "metadata": {},
   "outputs": [],
   "source": [
    "modelcnn = models.Sequential()\n",
    "modelcnn.add(layers.Conv1D(32, (3), activation='relu',\n",
    "                        input_shape=(28, 28)))\n",
    "modelcnn.add(layers.MaxPooling1D((2)))\n",
    "\n",
    "modelcnn.add(layers.Conv1D(64, (3), activation='relu'))\n",
    "modelcnn.add(layers.MaxPooling1D((2)))\n",
    "\n",
    "modelcnn.add(layers.Conv1D(128, (3), activation='relu'))\n",
    "modelcnn.add(layers.MaxPooling1D((2)))\n",
    "\n",
    "\n",
    "modelcnn.add(layers.Flatten())\n",
    "modelcnn.add(layers.Dense(64, activation='relu'))\n",
    "modelcnn.add(layers.Dropout(.1))\n",
    "\n",
    "modelcnn.add(layers.Dense(25, activation='softmax'))\n",
    "\n",
    "modelcnn.compile(loss='categorical_crossentropy',\n",
    "              optimizer=\"sgd\",\n",
    "              metrics=['accuracy'])"
   ]
  },
  {
   "cell_type": "code",
   "execution_count": null,
   "metadata": {},
   "outputs": [],
   "source": [
    "results = modelcnn.fit(image_train,\n",
    "                      label_train,\n",
    "                      epochs = 20,\n",
    "                      batch_size=32,\n",
    "                      validation_data=(image_val, label_val))"
   ]
  },
  {
   "cell_type": "code",
   "execution_count": null,
   "metadata": {},
   "outputs": [],
   "source": []
  },
  {
   "cell_type": "code",
   "execution_count": null,
   "metadata": {},
   "outputs": [],
   "source": [
    "visualize_training_results(results)"
   ]
  },
  {
   "cell_type": "markdown",
   "metadata": {},
   "source": [
    "# Evaluating "
   ]
  },
  {
   "cell_type": "code",
   "execution_count": null,
   "metadata": {},
   "outputs": [],
   "source": [
    "results_testcnn = modelcnn.evaluate(imagestest, labelstt)"
   ]
  },
  {
   "cell_type": "code",
   "execution_count": null,
   "metadata": {
    "scrolled": true
   },
   "outputs": [],
   "source": [
    "results_testcnn"
   ]
  },
  {
   "cell_type": "markdown",
   "metadata": {},
   "source": [
    "## EDA "
   ]
  },
  {
   "cell_type": "code",
   "execution_count": null,
   "metadata": {},
   "outputs": [],
   "source": [
    "predict = modelcnn.predict(imagestest)"
   ]
  },
  {
   "cell_type": "code",
   "execution_count": null,
   "metadata": {},
   "outputs": [],
   "source": [
    "predict"
   ]
  },
  {
   "cell_type": "code",
   "execution_count": null,
   "metadata": {},
   "outputs": [],
   "source": [
    "predict_labels=np.argmax(predict, axis=1)\n",
    "predict_labels"
   ]
  },
  {
   "cell_type": "code",
   "execution_count": null,
   "metadata": {},
   "outputs": [],
   "source": [
    "import tensorflow as tf"
   ]
  },
  {
   "cell_type": "code",
   "execution_count": null,
   "metadata": {
    "scrolled": true
   },
   "outputs": [],
   "source": [
    "modelcnn.get_layer(index= 4).output"
   ]
  },
  {
   "cell_type": "code",
   "execution_count": null,
   "metadata": {},
   "outputs": [],
   "source": [
    "modelcnn.outputs"
   ]
  },
  {
   "cell_type": "code",
   "execution_count": null,
   "metadata": {},
   "outputs": [],
   "source": [
    "# with tf.GradientTape() as tape:\n",
    "last_conv_layer = modelcnn.get_layer(index = 4)\n",
    "iterate = tf.keras.models.Model(inputs = modelcnn.inputs, outputs= last_conv_layer)\n",
    "model_out, last_conv_layer = iterate(imagestest)\n",
    "class_out = model_out[:, np.argmax(model_out[0])]\n",
    "grads = tape.gradient(class_out, last_conv_layer)\n",
    "pooled_grads = K.mean(grads, axis=(0, 1, 2))\n",
    "\n",
    "heatmap = tf.reduce_mean(tf.multiply(pooled_grads, last_conv_layer), axis=-1)"
   ]
  },
  {
   "cell_type": "code",
   "execution_count": null,
   "metadata": {},
   "outputs": [],
   "source": []
  },
  {
   "cell_type": "code",
   "execution_count": null,
   "metadata": {},
   "outputs": [],
   "source": [
    "heatmap = np.maximum(heatmap, 0)\n",
    "heatmap /= np.max(heatmap)\n",
    "heatmap = heatmap.reshape((8, 8))\n",
    "plt.matshow(heatmap)\n",
    "plt.show()"
   ]
  },
  {
   "cell_type": "markdown",
   "metadata": {},
   "source": [
    "## Attempt 3"
   ]
  },
  {
   "cell_type": "code",
   "execution_count": null,
   "metadata": {},
   "outputs": [],
   "source": [
    "imagesh  = np.array([np.reshape(imagestest[0], (28, 28))])\n",
    "imagesh.shape"
   ]
  },
  {
   "cell_type": "code",
   "execution_count": 50,
   "metadata": {},
   "outputs": [
    {
     "data": {
      "text/plain": [
       "(28, 28, 1)"
      ]
     },
     "execution_count": 50,
     "metadata": {},
     "output_type": "execute_result"
    },
    {
     "data": {
      "image/png": "[encoded data removed]",
      "text/plain": [
       "<Figure size 432x288 with 1 Axes>"
      ]
     },
     "metadata": {
      "needs_background": "light"
     },
     "output_type": "display_data"
    }
   ],
   "source": [
    "imageheat = np.expand_dims(imagestest[0], axis=0)\n",
    "\n",
    "imageheat.shape\n",
    "plt.imshow(imagestest[0].reshape(28,28))\n",
    "imagestest[0].shape"
   ]
  },
  {
   "cell_type": "markdown",
   "metadata": {},
   "source": [
    "# Saving and importing image"
   ]
  },
  {
   "cell_type": "code",
   "execution_count": 15,
   "metadata": {},
   "outputs": [
    {
     "data": {
      "image/png": "[encoded data removed]",
      "text/plain": [
       "<IPython.core.display.Image object>"
      ]
     },
     "execution_count": 15,
     "metadata": {},
     "output_type": "execute_result"
    }
   ],
   "source": [
    "from IPython.display import Image\n",
    "Image(filename='testplot.png')"
   ]
  },
  {
   "cell_type": "code",
   "execution_count": null,
   "metadata": {},
   "outputs": [],
   "source": [
    "# import cv2 \n",
    "# img = cv2.imread('testplot.png')  \n",
    "  \n",
    "# # Output img with window name as 'image' \n",
    "# cv2.imshow('image', img)  \n",
    "  \n",
    "# # Maintain output window utill \n",
    "# # user presses a key \n",
    "# cv2.waitKey(0)         \n",
    "  \n",
    "# # Destroying present windows on screen \n",
    "# cv2.destroyAllWindows()"
   ]
  },
  {
   "cell_type": "code",
   "execution_count": 28,
   "metadata": {
    "scrolled": true
   },
   "outputs": [
    {
     "data": {
      "image/png": "[encoded data removed]",
      "text/plain": [
       "<Figure size 432x288 with 1 Axes>"
      ]
     },
     "metadata": {
      "needs_background": "light"
     },
     "output_type": "display_data"
    }
   ],
   "source": [
    "import matplotlib.pyplot as plt\n",
    "\n",
    "plt.imshow(imagestest[0].reshape(28,28))\n",
    "plt.savefig('testplot.jpg')\n",
    "# Image(filename='testplot.png').save('testplot.jpg','JPEG')"
   ]
  },
  {
   "cell_type": "markdown",
   "metadata": {},
   "source": []
  },
  {
   "cell_type": "code",
   "execution_count": 51,
   "metadata": {},
   "outputs": [
    {
     "name": "stderr",
     "output_type": "stream",
     "text": [
      "/Users/michaelarmistead/opt/anaconda3/lib/python3.7/site-packages/ipykernel_launcher.py:41: RuntimeWarning: invalid value encountered in true_divide\n"
     ]
    },
    {
     "data": {
      "image/png": "[encoded data removed]",
      "text/plain": [
       "<Figure size 864x4104 with 456 Axes>"
      ]
     },
     "metadata": {
      "needs_background": "light"
     },
     "output_type": "display_data"
    }
   ],
   "source": [
    "from keras import models\n",
    "import math \n",
    "\n",
    "# Extract model layer outputs\n",
    "layer_outputs = [layer.output for layer in modelcnn.layers[:6]]\n",
    "\n",
    "# Create a model for displaying the feature maps\n",
    "activation_model = models.Model(inputs=modelcnn.input, outputs=layer_outputs)\n",
    "\n",
    "activations = activation_model.predict(imageheat)\n",
    "\n",
    "# Extract Layer Names for Labelling\n",
    "layer_names = []\n",
    "for layer in modelcnn.layers[:6]:\n",
    "    layer_names.append(layer.name)\n",
    "\n",
    "total_features = sum([a.shape[-1] for a in activations])\n",
    "total_features\n",
    "\n",
    "n_cols = 12\n",
    "n_rows = math.ceil(total_features / n_cols)\n",
    "\n",
    "\n",
    "iteration = 0\n",
    "fig , axes = plt.subplots(nrows=n_rows, ncols=n_cols, figsize=(n_cols, n_rows*1.5))\n",
    "\n",
    "for layer_n, layer_activation in enumerate(activations):\n",
    "    n_channels = layer_activation.shape[-1]\n",
    "    for ch_idx in range(n_channels):\n",
    "        row = iteration // n_cols\n",
    "        column = iteration % n_cols\n",
    "    \n",
    "        ax = axes[row, column]\n",
    "\n",
    "        channel_image = layer_activation[0,\n",
    "                                          :,\n",
    "                                         :,\n",
    "                                         ch_idx]\n",
    "        # Post-process the feature to make it visually palatable\n",
    "        channel_image -= channel_image.mean()\n",
    "        channel_image /= channel_image.std()\n",
    "        channel_image *= 64\n",
    "        channel_image += 128\n",
    "        channel_image = np.clip(channel_image, 0, 255).astype('uint8')\n",
    "\n",
    "        ax.imshow(channel_image, aspect='auto', cmap='viridis')\n",
    "        ax.get_xaxis().set_ticks([])\n",
    "        ax.get_yaxis().set_ticks([])\n",
    "        \n",
    "        if ch_idx == 0:\n",
    "            ax.set_title(layer_names[layer_n], fontsize=10)\n",
    "        iteration += 1\n",
    "\n",
    "fig.subplots_adjust(hspace=1.25)\n",
    "plt.savefig('Intermediate_Activations_Visualized.pdf')\n",
    "plt.show()"
   ]
  },
  {
   "cell_type": "code",
   "execution_count": 47,
   "metadata": {},
   "outputs": [
    {
     "data": {
      "text/plain": [
       "array([[[0.58431373],\n",
       "        [0.58431373],\n",
       "        [0.58823529],\n",
       "        [0.58823529],\n",
       "        [0.58823529],\n",
       "        [0.59215686],\n",
       "        [0.59215686],\n",
       "        [0.58823529],\n",
       "        [0.59215686],\n",
       "        [0.59607843],\n",
       "        [0.59607843],\n",
       "        [0.59607843],\n",
       "        [0.59607843],\n",
       "        [0.59607843],\n",
       "        [0.6       ],\n",
       "        [0.6       ],\n",
       "        [0.59215686],\n",
       "        [0.59607843],\n",
       "        [0.59607843],\n",
       "        [0.6       ],\n",
       "        [0.59607843],\n",
       "        [0.59607843],\n",
       "        [0.59215686],\n",
       "        [0.59215686],\n",
       "        [0.58823529],\n",
       "        [0.58823529],\n",
       "        [0.58823529],\n",
       "        [0.58431373]],\n",
       "\n",
       "       [[0.58823529],\n",
       "        [0.58823529],\n",
       "        [0.58823529],\n",
       "        [0.59607843],\n",
       "        [0.59607843],\n",
       "        [0.59215686],\n",
       "        [0.59607843],\n",
       "        [0.59607843],\n",
       "        [0.59607843],\n",
       "        [0.59607843],\n",
       "        [0.59607843],\n",
       "        [0.6       ],\n",
       "        [0.60392157],\n",
       "        [0.6       ],\n",
       "        [0.60392157],\n",
       "        [0.60392157],\n",
       "        [0.6       ],\n",
       "        [0.60392157],\n",
       "        [0.6       ],\n",
       "        [0.60392157],\n",
       "        [0.6       ],\n",
       "        [0.6       ],\n",
       "        [0.59607843],\n",
       "        [0.59607843],\n",
       "        [0.59607843],\n",
       "        [0.59215686],\n",
       "        [0.58823529],\n",
       "        [0.59215686]],\n",
       "\n",
       "       [[0.58823529],\n",
       "        [0.59215686],\n",
       "        [0.59215686],\n",
       "        [0.59607843],\n",
       "        [0.59607843],\n",
       "        [0.59607843],\n",
       "        [0.6       ],\n",
       "        [0.6       ],\n",
       "        [0.59607843],\n",
       "        [0.59607843],\n",
       "        [0.59607843],\n",
       "        [0.6       ],\n",
       "        [0.60392157],\n",
       "        [0.60392157],\n",
       "        [0.60784314],\n",
       "        [0.60784314],\n",
       "        [0.60392157],\n",
       "        [0.60392157],\n",
       "        [0.60784314],\n",
       "        [0.60784314],\n",
       "        [0.60784314],\n",
       "        [0.60784314],\n",
       "        [0.60392157],\n",
       "        [0.6       ],\n",
       "        [0.6       ],\n",
       "        [0.59215686],\n",
       "        [0.59215686],\n",
       "        [0.59607843]],\n",
       "\n",
       "       [[0.58823529],\n",
       "        [0.59215686],\n",
       "        [0.59215686],\n",
       "        [0.59607843],\n",
       "        [0.59607843],\n",
       "        [0.59607843],\n",
       "        [0.60392157],\n",
       "        [0.60392157],\n",
       "        [0.60392157],\n",
       "        [0.60392157],\n",
       "        [0.60392157],\n",
       "        [0.6       ],\n",
       "        [0.60392157],\n",
       "        [0.60784314],\n",
       "        [0.61176471],\n",
       "        [0.61568627],\n",
       "        [0.61568627],\n",
       "        [0.61176471],\n",
       "        [0.60784314],\n",
       "        [0.61176471],\n",
       "        [0.60784314],\n",
       "        [0.60392157],\n",
       "        [0.60392157],\n",
       "        [0.60784314],\n",
       "        [0.59607843],\n",
       "        [0.60392157],\n",
       "        [0.6       ],\n",
       "        [0.6       ]],\n",
       "\n",
       "       [[0.59215686],\n",
       "        [0.59607843],\n",
       "        [0.59607843],\n",
       "        [0.59607843],\n",
       "        [0.60392157],\n",
       "        [0.60392157],\n",
       "        [0.60392157],\n",
       "        [0.60392157],\n",
       "        [0.60392157],\n",
       "        [0.60784314],\n",
       "        [0.61568627],\n",
       "        [0.61176471],\n",
       "        [0.61176471],\n",
       "        [0.61176471],\n",
       "        [0.60392157],\n",
       "        [0.58823529],\n",
       "        [0.57254902],\n",
       "        [0.57647059],\n",
       "        [0.57254902],\n",
       "        [0.57647059],\n",
       "        [0.56078431],\n",
       "        [0.5372549 ],\n",
       "        [0.49411765],\n",
       "        [0.49411765],\n",
       "        [0.55686275],\n",
       "        [0.54509804],\n",
       "        [0.59607843],\n",
       "        [0.60392157]],\n",
       "\n",
       "       [[0.59607843],\n",
       "        [0.6       ],\n",
       "        [0.6       ],\n",
       "        [0.60392157],\n",
       "        [0.60392157],\n",
       "        [0.60784314],\n",
       "        [0.60392157],\n",
       "        [0.60784314],\n",
       "        [0.60784314],\n",
       "        [0.60392157],\n",
       "        [0.6       ],\n",
       "        [0.58823529],\n",
       "        [0.56470588],\n",
       "        [0.56078431],\n",
       "        [0.56862745],\n",
       "        [0.54509804],\n",
       "        [0.55686275],\n",
       "        [0.56470588],\n",
       "        [0.61568627],\n",
       "        [0.61568627],\n",
       "        [0.57647059],\n",
       "        [0.54509804],\n",
       "        [0.50196078],\n",
       "        [0.46666667],\n",
       "        [0.50980392],\n",
       "        [0.44313725],\n",
       "        [0.57647059],\n",
       "        [0.61176471]],\n",
       "\n",
       "       [[0.59215686],\n",
       "        [0.6       ],\n",
       "        [0.6       ],\n",
       "        [0.60784314],\n",
       "        [0.60784314],\n",
       "        [0.61176471],\n",
       "        [0.60784314],\n",
       "        [0.59607843],\n",
       "        [0.56862745],\n",
       "        [0.54509804],\n",
       "        [0.55294118],\n",
       "        [0.55294118],\n",
       "        [0.55294118],\n",
       "        [0.6       ],\n",
       "        [0.6       ],\n",
       "        [0.56078431],\n",
       "        [0.52941176],\n",
       "        [0.5372549 ],\n",
       "        [0.54509804],\n",
       "        [0.52156863],\n",
       "        [0.4745098 ],\n",
       "        [0.41960784],\n",
       "        [0.39607843],\n",
       "        [0.40784314],\n",
       "        [0.43137255],\n",
       "        [0.49803922],\n",
       "        [0.61568627],\n",
       "        [0.61176471]],\n",
       "\n",
       "       [[0.59215686],\n",
       "        [0.59607843],\n",
       "        [0.6       ],\n",
       "        [0.60784314],\n",
       "        [0.60784314],\n",
       "        [0.60392157],\n",
       "        [0.59215686],\n",
       "        [0.57254902],\n",
       "        [0.54509804],\n",
       "        [0.51372549],\n",
       "        [0.50980392],\n",
       "        [0.5254902 ],\n",
       "        [0.5372549 ],\n",
       "        [0.51764706],\n",
       "        [0.49019608],\n",
       "        [0.43529412],\n",
       "        [0.39607843],\n",
       "        [0.36862745],\n",
       "        [0.37254902],\n",
       "        [0.41176471],\n",
       "        [0.44313725],\n",
       "        [0.47843137],\n",
       "        [0.52156863],\n",
       "        [0.56862745],\n",
       "        [0.6       ],\n",
       "        [0.61568627],\n",
       "        [0.61176471],\n",
       "        [0.61176471]],\n",
       "\n",
       "       [[0.59607843],\n",
       "        [0.59607843],\n",
       "        [0.60392157],\n",
       "        [0.59607843],\n",
       "        [0.59215686],\n",
       "        [0.58823529],\n",
       "        [0.58431373],\n",
       "        [0.58431373],\n",
       "        [0.54509804],\n",
       "        [0.47843137],\n",
       "        [0.40784314],\n",
       "        [0.38431373],\n",
       "        [0.36078431],\n",
       "        [0.32156863],\n",
       "        [0.31764706],\n",
       "        [0.31764706],\n",
       "        [0.33333333],\n",
       "        [0.44705882],\n",
       "        [0.56862745],\n",
       "        [0.61568627],\n",
       "        [0.62745098],\n",
       "        [0.63529412],\n",
       "        [0.63137255],\n",
       "        [0.62352941],\n",
       "        [0.61568627],\n",
       "        [0.61176471],\n",
       "        [0.61176471],\n",
       "        [0.61176471]],\n",
       "\n",
       "       [[0.59215686],\n",
       "        [0.59215686],\n",
       "        [0.58823529],\n",
       "        [0.57254902],\n",
       "        [0.56862745],\n",
       "        [0.57647059],\n",
       "        [0.58039216],\n",
       "        [0.57647059],\n",
       "        [0.56862745],\n",
       "        [0.51764706],\n",
       "        [0.38039216],\n",
       "        [0.27843137],\n",
       "        [0.24313725],\n",
       "        [0.25882353],\n",
       "        [0.34509804],\n",
       "        [0.45490196],\n",
       "        [0.56862745],\n",
       "        [0.63529412],\n",
       "        [0.62745098],\n",
       "        [0.62352941],\n",
       "        [0.61568627],\n",
       "        [0.60784314],\n",
       "        [0.61176471],\n",
       "        [0.61568627],\n",
       "        [0.61568627],\n",
       "        [0.61176471],\n",
       "        [0.60784314],\n",
       "        [0.60784314]],\n",
       "\n",
       "       [[0.59215686],\n",
       "        [0.56862745],\n",
       "        [0.56470588],\n",
       "        [0.56862745],\n",
       "        [0.57647059],\n",
       "        [0.56862745],\n",
       "        [0.57647059],\n",
       "        [0.58823529],\n",
       "        [0.58823529],\n",
       "        [0.48627451],\n",
       "        [0.36078431],\n",
       "        [0.26666667],\n",
       "        [0.24705882],\n",
       "        [0.2627451 ],\n",
       "        [0.3372549 ],\n",
       "        [0.62352941],\n",
       "        [0.63921569],\n",
       "        [0.60784314],\n",
       "        [0.61960784],\n",
       "        [0.61568627],\n",
       "        [0.61176471],\n",
       "        [0.61176471],\n",
       "        [0.61568627],\n",
       "        [0.61176471],\n",
       "        [0.61176471],\n",
       "        [0.61176471],\n",
       "        [0.60784314],\n",
       "        [0.60392157]],\n",
       "\n",
       "       [[0.56078431],\n",
       "        [0.56470588],\n",
       "        [0.56862745],\n",
       "        [0.56862745],\n",
       "        [0.56078431],\n",
       "        [0.57647059],\n",
       "        [0.59607843],\n",
       "        [0.59607843],\n",
       "        [0.50196078],\n",
       "        [0.35294118],\n",
       "        [0.30980392],\n",
       "        [0.26666667],\n",
       "        [0.25098039],\n",
       "        [0.2745098 ],\n",
       "        [0.2627451 ],\n",
       "        [0.32941176],\n",
       "        [0.57647059],\n",
       "        [0.64313725],\n",
       "        [0.61568627],\n",
       "        [0.61960784],\n",
       "        [0.61568627],\n",
       "        [0.61568627],\n",
       "        [0.61568627],\n",
       "        [0.61176471],\n",
       "        [0.61568627],\n",
       "        [0.61176471],\n",
       "        [0.61176471],\n",
       "        [0.60784314]],\n",
       "\n",
       "       [[0.56862745],\n",
       "        [0.57254902],\n",
       "        [0.56078431],\n",
       "        [0.56862745],\n",
       "        [0.56862745],\n",
       "        [0.58823529],\n",
       "        [0.58431373],\n",
       "        [0.58431373],\n",
       "        [0.54509804],\n",
       "        [0.4627451 ],\n",
       "        [0.33333333],\n",
       "        [0.24313725],\n",
       "        [0.24313725],\n",
       "        [0.29411765],\n",
       "        [0.28627451],\n",
       "        [0.24313725],\n",
       "        [0.2627451 ],\n",
       "        [0.54901961],\n",
       "        [0.64313725],\n",
       "        [0.61568627],\n",
       "        [0.61960784],\n",
       "        [0.61960784],\n",
       "        [0.61960784],\n",
       "        [0.61960784],\n",
       "        [0.61568627],\n",
       "        [0.61568627],\n",
       "        [0.61176471],\n",
       "        [0.61176471]],\n",
       "\n",
       "       [[0.58823529],\n",
       "        [0.57647059],\n",
       "        [0.56470588],\n",
       "        [0.57647059],\n",
       "        [0.58431373],\n",
       "        [0.58039216],\n",
       "        [0.58431373],\n",
       "        [0.61960784],\n",
       "        [0.61960784],\n",
       "        [0.53333333],\n",
       "        [0.36862745],\n",
       "        [0.24705882],\n",
       "        [0.22745098],\n",
       "        [0.27058824],\n",
       "        [0.33333333],\n",
       "        [0.32156863],\n",
       "        [0.2627451 ],\n",
       "        [0.2745098 ],\n",
       "        [0.61176471],\n",
       "        [0.62745098],\n",
       "        [0.62352941],\n",
       "        [0.62745098],\n",
       "        [0.62352941],\n",
       "        [0.61960784],\n",
       "        [0.61568627],\n",
       "        [0.61176471],\n",
       "        [0.61176471],\n",
       "        [0.61176471]],\n",
       "\n",
       "       [[0.57647059],\n",
       "        [0.58039216],\n",
       "        [0.57647059],\n",
       "        [0.56862745],\n",
       "        [0.58039216],\n",
       "        [0.59607843],\n",
       "        [0.59215686],\n",
       "        [0.62745098],\n",
       "        [0.6       ],\n",
       "        [0.46666667],\n",
       "        [0.3372549 ],\n",
       "        [0.25882353],\n",
       "        [0.25098039],\n",
       "        [0.24705882],\n",
       "        [0.27058824],\n",
       "        [0.29411765],\n",
       "        [0.30588235],\n",
       "        [0.22352941],\n",
       "        [0.50980392],\n",
       "        [0.64705882],\n",
       "        [0.61960784],\n",
       "        [0.62352941],\n",
       "        [0.61960784],\n",
       "        [0.62352941],\n",
       "        [0.61960784],\n",
       "        [0.61568627],\n",
       "        [0.61568627],\n",
       "        [0.61568627]],\n",
       "\n",
       "       [[0.58431373],\n",
       "        [0.58039216],\n",
       "        [0.57254902],\n",
       "        [0.56862745],\n",
       "        [0.57647059],\n",
       "        [0.58431373],\n",
       "        [0.57254902],\n",
       "        [0.59215686],\n",
       "        [0.56470588],\n",
       "        [0.43137255],\n",
       "        [0.30588235],\n",
       "        [0.25490196],\n",
       "        [0.25882353],\n",
       "        [0.25882353],\n",
       "        [0.22745098],\n",
       "        [0.23137255],\n",
       "        [0.25098039],\n",
       "        [0.30980392],\n",
       "        [0.58823529],\n",
       "        [0.64705882],\n",
       "        [0.63529412],\n",
       "        [0.63529412],\n",
       "        [0.63529412],\n",
       "        [0.63529412],\n",
       "        [0.63137255],\n",
       "        [0.63137255],\n",
       "        [0.61960784],\n",
       "        [0.61176471]],\n",
       "\n",
       "       [[0.59215686],\n",
       "        [0.57254902],\n",
       "        [0.56078431],\n",
       "        [0.55294118],\n",
       "        [0.54117647],\n",
       "        [0.54901961],\n",
       "        [0.55686275],\n",
       "        [0.57254902],\n",
       "        [0.56470588],\n",
       "        [0.4745098 ],\n",
       "        [0.32941176],\n",
       "        [0.21960784],\n",
       "        [0.24313725],\n",
       "        [0.2745098 ],\n",
       "        [0.27843137],\n",
       "        [0.26666667],\n",
       "        [0.22352941],\n",
       "        [0.45882353],\n",
       "        [0.56470588],\n",
       "        [0.56470588],\n",
       "        [0.57647059],\n",
       "        [0.58431373],\n",
       "        [0.59607843],\n",
       "        [0.58823529],\n",
       "        [0.57254902],\n",
       "        [0.57254902],\n",
       "        [0.60392157],\n",
       "        [0.62745098]],\n",
       "\n",
       "       [[0.57647059],\n",
       "        [0.56470588],\n",
       "        [0.56078431],\n",
       "        [0.55686275],\n",
       "        [0.54901961],\n",
       "        [0.55686275],\n",
       "        [0.57254902],\n",
       "        [0.59215686],\n",
       "        [0.60392157],\n",
       "        [0.51372549],\n",
       "        [0.33333333],\n",
       "        [0.23137255],\n",
       "        [0.2       ],\n",
       "        [0.23529412],\n",
       "        [0.33333333],\n",
       "        [0.27058824],\n",
       "        [0.25098039],\n",
       "        [0.29803922],\n",
       "        [0.29411765],\n",
       "        [0.30980392],\n",
       "        [0.31764706],\n",
       "        [0.30980392],\n",
       "        [0.29803922],\n",
       "        [0.3254902 ],\n",
       "        [0.43921569],\n",
       "        [0.55294118],\n",
       "        [0.63921569],\n",
       "        [0.63921569]],\n",
       "\n",
       "       [[0.56470588],\n",
       "        [0.58039216],\n",
       "        [0.57647059],\n",
       "        [0.56862745],\n",
       "        [0.56862745],\n",
       "        [0.58039216],\n",
       "        [0.58823529],\n",
       "        [0.60784314],\n",
       "        [0.59215686],\n",
       "        [0.46666667],\n",
       "        [0.29019608],\n",
       "        [0.24313725],\n",
       "        [0.24705882],\n",
       "        [0.21568627],\n",
       "        [0.24313725],\n",
       "        [0.28235294],\n",
       "        [0.28627451],\n",
       "        [0.30196078],\n",
       "        [0.29019608],\n",
       "        [0.28627451],\n",
       "        [0.26666667],\n",
       "        [0.34509804],\n",
       "        [0.44313725],\n",
       "        [0.54117647],\n",
       "        [0.63529412],\n",
       "        [0.63529412],\n",
       "        [0.65882353],\n",
       "        [0.65882353]],\n",
       "\n",
       "       [[0.57254902],\n",
       "        [0.57254902],\n",
       "        [0.55686275],\n",
       "        [0.55294118],\n",
       "        [0.55294118],\n",
       "        [0.54117647],\n",
       "        [0.5254902 ],\n",
       "        [0.55686275],\n",
       "        [0.48627451],\n",
       "        [0.37647059],\n",
       "        [0.29411765],\n",
       "        [0.2627451 ],\n",
       "        [0.25490196],\n",
       "        [0.24705882],\n",
       "        [0.24313725],\n",
       "        [0.30588235],\n",
       "        [0.34117647],\n",
       "        [0.29803922],\n",
       "        [0.32941176],\n",
       "        [0.37647059],\n",
       "        [0.49411765],\n",
       "        [0.63529412],\n",
       "        [0.6745098 ],\n",
       "        [0.60784314],\n",
       "        [0.56470588],\n",
       "        [0.58431373],\n",
       "        [0.59215686],\n",
       "        [0.63137255]],\n",
       "\n",
       "       [[0.55686275],\n",
       "        [0.53333333],\n",
       "        [0.51764706],\n",
       "        [0.5254902 ],\n",
       "        [0.49803922],\n",
       "        [0.46666667],\n",
       "        [0.4627451 ],\n",
       "        [0.46666667],\n",
       "        [0.40392157],\n",
       "        [0.34117647],\n",
       "        [0.30196078],\n",
       "        [0.28627451],\n",
       "        [0.2745098 ],\n",
       "        [0.24313725],\n",
       "        [0.25098039],\n",
       "        [0.28235294],\n",
       "        [0.36470588],\n",
       "        [0.5254902 ],\n",
       "        [0.60784314],\n",
       "        [0.62745098],\n",
       "        [0.65098039],\n",
       "        [0.61176471],\n",
       "        [0.58823529],\n",
       "        [0.59215686],\n",
       "        [0.56078431],\n",
       "        [0.53333333],\n",
       "        [0.56862745],\n",
       "        [0.58431373]],\n",
       "\n",
       "       [[0.50980392],\n",
       "        [0.51764706],\n",
       "        [0.49803922],\n",
       "        [0.47058824],\n",
       "        [0.44705882],\n",
       "        [0.43137255],\n",
       "        [0.42745098],\n",
       "        [0.41176471],\n",
       "        [0.35686275],\n",
       "        [0.30196078],\n",
       "        [0.29019608],\n",
       "        [0.29411765],\n",
       "        [0.29019608],\n",
       "        [0.25490196],\n",
       "        [0.28627451],\n",
       "        [0.44313725],\n",
       "        [0.65098039],\n",
       "        [0.69411765],\n",
       "        [0.66666667],\n",
       "        [0.63137255],\n",
       "        [0.59607843],\n",
       "        [0.55294118],\n",
       "        [0.5254902 ],\n",
       "        [0.53333333],\n",
       "        [0.54901961],\n",
       "        [0.52156863],\n",
       "        [0.49803922],\n",
       "        [0.50980392]],\n",
       "\n",
       "       [[0.44313725],\n",
       "        [0.45490196],\n",
       "        [0.45098039],\n",
       "        [0.41568627],\n",
       "        [0.39607843],\n",
       "        [0.37254902],\n",
       "        [0.3372549 ],\n",
       "        [0.32941176],\n",
       "        [0.33333333],\n",
       "        [0.30196078],\n",
       "        [0.30588235],\n",
       "        [0.29019608],\n",
       "        [0.29803922],\n",
       "        [0.40392157],\n",
       "        [0.59607843],\n",
       "        [0.70196078],\n",
       "        [0.66666667],\n",
       "        [0.61568627],\n",
       "        [0.60784314],\n",
       "        [0.59215686],\n",
       "        [0.54901961],\n",
       "        [0.50588235],\n",
       "        [0.49411765],\n",
       "        [0.49411765],\n",
       "        [0.52156863],\n",
       "        [0.50980392],\n",
       "        [0.47843137],\n",
       "        [0.49019608]],\n",
       "\n",
       "       [[0.31764706],\n",
       "        [0.3372549 ],\n",
       "        [0.33333333],\n",
       "        [0.3254902 ],\n",
       "        [0.29803922],\n",
       "        [0.28235294],\n",
       "        [0.28627451],\n",
       "        [0.29803922],\n",
       "        [0.30196078],\n",
       "        [0.30980392],\n",
       "        [0.27843137],\n",
       "        [0.39607843],\n",
       "        [0.59215686],\n",
       "        [0.69803922],\n",
       "        [0.69411765],\n",
       "        [0.66666667],\n",
       "        [0.63137255],\n",
       "        [0.59607843],\n",
       "        [0.57647059],\n",
       "        [0.59215686],\n",
       "        [0.52156863],\n",
       "        [0.45098039],\n",
       "        [0.4745098 ],\n",
       "        [0.4745098 ],\n",
       "        [0.48627451],\n",
       "        [0.49411765],\n",
       "        [0.47843137],\n",
       "        [0.47843137]],\n",
       "\n",
       "       [[0.23921569],\n",
       "        [0.23921569],\n",
       "        [0.2627451 ],\n",
       "        [0.27058824],\n",
       "        [0.2745098 ],\n",
       "        [0.29411765],\n",
       "        [0.30588235],\n",
       "        [0.30588235],\n",
       "        [0.31764706],\n",
       "        [0.26666667],\n",
       "        [0.44313725],\n",
       "        [0.64705882],\n",
       "        [0.68235294],\n",
       "        [0.6627451 ],\n",
       "        [0.63529412],\n",
       "        [0.61568627],\n",
       "        [0.58431373],\n",
       "        [0.58039216],\n",
       "        [0.58039216],\n",
       "        [0.58039216],\n",
       "        [0.49411765],\n",
       "        [0.39215686],\n",
       "        [0.44313725],\n",
       "        [0.45882353],\n",
       "        [0.44313725],\n",
       "        [0.47843137],\n",
       "        [0.4627451 ],\n",
       "        [0.45098039]],\n",
       "\n",
       "       [[0.27058824],\n",
       "        [0.27058824],\n",
       "        [0.30196078],\n",
       "        [0.30588235],\n",
       "        [0.29411765],\n",
       "        [0.29803922],\n",
       "        [0.30588235],\n",
       "        [0.30980392],\n",
       "        [0.2627451 ],\n",
       "        [0.47058824],\n",
       "        [0.67843137],\n",
       "        [0.61568627],\n",
       "        [0.62352941],\n",
       "        [0.58039216],\n",
       "        [0.60784314],\n",
       "        [0.58823529],\n",
       "        [0.54117647],\n",
       "        [0.56078431],\n",
       "        [0.58039216],\n",
       "        [0.58431373],\n",
       "        [0.48235294],\n",
       "        [0.35686275],\n",
       "        [0.39607843],\n",
       "        [0.43529412],\n",
       "        [0.43529412],\n",
       "        [0.45490196],\n",
       "        [0.44313725],\n",
       "        [0.4627451 ]],\n",
       "\n",
       "       [[0.29019608],\n",
       "        [0.29411765],\n",
       "        [0.29803922],\n",
       "        [0.29411765],\n",
       "        [0.29411765],\n",
       "        [0.29803922],\n",
       "        [0.29411765],\n",
       "        [0.26666667],\n",
       "        [0.48627451],\n",
       "        [0.6745098 ],\n",
       "        [0.59607843],\n",
       "        [0.57254902],\n",
       "        [0.57254902],\n",
       "        [0.57254902],\n",
       "        [0.59607843],\n",
       "        [0.55686275],\n",
       "        [0.51372549],\n",
       "        [0.5254902 ],\n",
       "        [0.56470588],\n",
       "        [0.57647059],\n",
       "        [0.49019608],\n",
       "        [0.34117647],\n",
       "        [0.34117647],\n",
       "        [0.40392157],\n",
       "        [0.41960784],\n",
       "        [0.43137255],\n",
       "        [0.45490196],\n",
       "        [0.44313725]],\n",
       "\n",
       "       [[0.29411765],\n",
       "        [0.29019608],\n",
       "        [0.29019608],\n",
       "        [0.29019608],\n",
       "        [0.29803922],\n",
       "        [0.29019608],\n",
       "        [0.32156863],\n",
       "        [0.5254902 ],\n",
       "        [0.65882353],\n",
       "        [0.60784314],\n",
       "        [0.57254902],\n",
       "        [0.5372549 ],\n",
       "        [0.56862745],\n",
       "        [0.57254902],\n",
       "        [0.58431373],\n",
       "        [0.52941176],\n",
       "        [0.48627451],\n",
       "        [0.49019608],\n",
       "        [0.54117647],\n",
       "        [0.58039216],\n",
       "        [0.49803922],\n",
       "        [0.34901961],\n",
       "        [0.32156863],\n",
       "        [0.37647059],\n",
       "        [0.41568627],\n",
       "        [0.43921569],\n",
       "        [0.47058824],\n",
       "        [0.41960784]]])"
      ]
     },
     "execution_count": 47,
     "metadata": {},
     "output_type": "execute_result"
    }
   ],
   "source": [
    "imagestest[0]"
   ]
  },
  {
   "cell_type": "code",
   "execution_count": null,
   "metadata": {},
   "outputs": [],
   "source": [
    "x.index(1)"
   ]
  },
  {
   "cell_type": "code",
   "execution_count": null,
   "metadata": {},
   "outputs": [],
   "source": [
    "x[-1]"
   ]
  },
  {
   "cell_type": "markdown",
   "metadata": {},
   "source": [
    "## 4"
   ]
  },
  {
   "cell_type": "code",
   "execution_count": 37,
   "metadata": {},
   "outputs": [],
   "source": [
    "from keras.applications.vgg16 import preprocess_input, decode_predictions, VGG16\n",
    "from keras.preprocessing import image\n",
    "import keras.backend as K\n",
    "import numpy as np\n",
    "import cv2\n",
    "import sys"
   ]
  },
  {
   "cell_type": "code",
   "execution_count": 38,
   "metadata": {},
   "outputs": [],
   "source": [
    "preds = modelcnn.predict(imagestest)\n",
    "class_idx = np.argmax(preds[0])\n",
    "class_output = modelcnn.output[:, class_idx]\n",
    "last_conv_layer = modelcnn.get_layer(index= 4)"
   ]
  },
  {
   "cell_type": "code",
   "execution_count": 39,
   "metadata": {},
   "outputs": [],
   "source": [
    "grads = K.gradients(class_output, last_conv_layer.output)[0]\n",
    "pooled_grads = K.mean(grads, axis=(0, 1, 2))\n",
    "iterate = K.function([modelcnn.input], [pooled_grads, last_conv_layer.output[0]])\n",
    "pooled_grads_value, conv_layer_output_value = iterate([imagestest])\n",
    "for i in range(28):\n",
    "    conv_layer_output_value[:, :, i] *= pooled_grads_value[i]"
   ]
  },
  {
   "cell_type": "code",
   "execution_count": 40,
   "metadata": {},
   "outputs": [],
   "source": [
    "heatmap = np.mean(conv_layer_output_value, axis=-1)\n",
    "heatmap = np.maximum(heatmap, 0)\n",
    "heatmap /= np.max(heatmap)"
   ]
  },
  {
   "cell_type": "code",
   "execution_count": 41,
   "metadata": {},
   "outputs": [],
   "source": [
    "jpg = 'testplot.jpg'\n",
    "\n",
    "img = cv2.imread(jpg)\n",
    "img.shape\n",
    "# img = cv2.resize(png, (28,28))\n",
    "\n",
    "heatmap = cv2.resize(heatmap, (img.shape[1], img.shape[0]))\n",
    "heatmap = np.uint8(255 * heatmap)"
   ]
  },
  {
   "cell_type": "code",
   "execution_count": 42,
   "metadata": {},
   "outputs": [
    {
     "data": {
      "text/plain": [
       "((288, 432, 3), (288, 432))"
      ]
     },
     "execution_count": 42,
     "metadata": {},
     "output_type": "execute_result"
    }
   ],
   "source": [
    "img.shape, heatmap.shape"
   ]
  },
  {
   "cell_type": "code",
   "execution_count": 43,
   "metadata": {},
   "outputs": [],
   "source": [
    "heatmap = cv2.applyColorMap(heatmap, cv2.COLORMAP_JET)\n",
    "superimposed_img = cv2.addWeighted(img, 0.6, heatmap, 0.4, 0)"
   ]
  },
  {
   "cell_type": "code",
   "execution_count": 44,
   "metadata": {},
   "outputs": [
    {
     "data": {
      "image/png": "[encoded data removed]",
      "text/plain": [
       "<Figure size 360x360 with 1 Axes>"
      ]
     },
     "metadata": {
      "needs_background": "light"
     },
     "output_type": "display_data"
    }
   ],
   "source": [
    "%matplotlib inline\n",
    "plt.figure(figsize=(5,5))\n",
    "from matplotlib import pyplot as plt\n",
    "plt.imshow(superimposed_img)\n",
    "plt.show()"
   ]
  },
  {
   "cell_type": "code",
   "execution_count": null,
   "metadata": {},
   "outputs": [],
   "source": []
  },
  {
   "cell_type": "markdown",
   "metadata": {},
   "source": [
    "# Transfer learning"
   ]
  },
  {
   "cell_type": "code",
   "execution_count": null,
   "metadata": {},
   "outputs": [],
   "source": []
  }
 ],
 "metadata": {
  "kernelspec": {
   "display_name": "Python 3",
   "language": "python",
   "name": "python3"
  },
  "language_info": {
   "codemirror_mode": {
    "name": "ipython",
    "version": 3
   },
   "file_extension": ".py",
   "mimetype": "text/x-python",
   "name": "python",
   "nbconvert_exporter": "python",
   "pygments_lexer": "ipython3",
   "version": "3.7.4"
  },
  "toc": {
   "base_numbering": 1,
   "nav_menu": {},
   "number_sections": true,
   "sideBar": true,
   "skip_h1_title": false,
   "title_cell": "Table of Contents",
   "title_sidebar": "Contents",
   "toc_cell": false,
   "toc_position": {
    "height": "calc(100% - 180px)",
    "left": "10px",
    "top": "150px",
    "width": "288px"
   },
   "toc_section_display": true,
   "toc_window_display": true
  },
  "varInspector": {
   "cols": {
    "lenName": 16,
    "lenType": 16,
    "lenVar": 40
   },
   "kernels_config": {
    "python": {
     "delete_cmd_postfix": "",
     "delete_cmd_prefix": "del ",
     "library": "var_list.py",
     "varRefreshCmd": "print(var_dic_list())"
    },
    "r": {
     "delete_cmd_postfix": ") ",
     "delete_cmd_prefix": "rm(",
     "library": "var_list.r",
     "varRefreshCmd": "cat(var_dic_list()) "
    }
   },
   "types_to_exclude": [
    "module",
    "function",
    "builtin_function_or_method",
    "instance",
    "_Feature"
   ],
   "window_display": false
  }
 },
 "nbformat": 4,
 "nbformat_minor": 2
}
