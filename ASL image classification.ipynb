{
 "cells": [
  {
   "cell_type": "code",
   "execution_count": 1,
   "metadata": {},
   "outputs": [
    {
     "name": "stderr",
     "output_type": "stream",
     "text": [
      "Using TensorFlow backend.\n"
     ]
    }
   ],
   "source": [
    "import pandas as pd\n",
    "import numpy as np\n",
    "import matplotlib.pyplot as plt\n",
    "from sklearn.model_selection import train_test_split\n",
    "from sklearn.preprocessing import LabelBinarizer\n",
    "from keras import models\n",
    "from keras import layers\n",
    "\n",
    "import keras\n",
    "from keras.datasets import mnist\n",
    "from keras.models import Sequential\n",
    "from keras.layers import Dense, Dropout\n",
    "from keras.optimizers import RMSprop\n",
    "from keras.optimizers import Adam, SGD\n",
    "from keras import regularizers\n"
   ]
  },
  {
   "cell_type": "code",
   "execution_count": 13,
   "metadata": {},
   "outputs": [],
   "source": [
    "testdf=pd.read_csv('sign_mnist_test.csv')\n",
    "traindf=pd.read_csv('sign_mnist_train.csv')"
   ]
  },
  {
   "cell_type": "code",
   "execution_count": 14,
   "metadata": {},
   "outputs": [
    {
     "data": {
      "text/plain": [
       "((27455, 785),\n",
       "    label  pixel1  pixel2  pixel3  pixel4  pixel5  pixel6  pixel7  pixel8  \\\n",
       " 0      3     107     118     127     134     139     143     146     150   \n",
       " 1      6     155     157     156     156     156     157     156     158   \n",
       " 2      2     187     188     188     187     187     186     187     188   \n",
       " 3      2     211     211     212     212     211     210     211     210   \n",
       " 4     13     164     167     170     172     176     179     180     184   \n",
       " \n",
       "    pixel9  ...  pixel775  pixel776  pixel777  pixel778  pixel779  pixel780  \\\n",
       " 0     153  ...       207       207       207       207       206       206   \n",
       " 1     158  ...        69       149       128        87        94       163   \n",
       " 2     187  ...       202       201       200       199       198       199   \n",
       " 3     210  ...       235       234       233       231       230       226   \n",
       " 4     185  ...        92       105       105       108       133       163   \n",
       " \n",
       "    pixel781  pixel782  pixel783  pixel784  \n",
       " 0       206       204       203       202  \n",
       " 1       175       103       135       149  \n",
       " 2       198       195       194       195  \n",
       " 3       225       222       229       163  \n",
       " 4       157       163       164       179  \n",
       " \n",
       " [5 rows x 785 columns])"
      ]
     },
     "execution_count": 14,
     "metadata": {},
     "output_type": "execute_result"
    }
   ],
   "source": [
    "traindf.shape, traindf.head()"
   ]
  },
  {
   "cell_type": "code",
   "execution_count": 15,
   "metadata": {},
   "outputs": [
    {
     "data": {
      "text/plain": [
       "((7172, 785),\n",
       "    label  pixel1  pixel2  pixel3  pixel4  pixel5  pixel6  pixel7  pixel8  \\\n",
       " 0      6     149     149     150     150     150     151     151     150   \n",
       " 1      5     126     128     131     132     133     134     135     135   \n",
       " 2     10      85      88      92      96     105     123     135     143   \n",
       " 3      0     203     205     207     206     207     209     210     209   \n",
       " 4      3     188     191     193     195     199     201     202     203   \n",
       " \n",
       "    pixel9  ...  pixel775  pixel776  pixel777  pixel778  pixel779  pixel780  \\\n",
       " 0     151  ...       138       148       127        89        82        96   \n",
       " 1     136  ...        47       104       194       183       186       184   \n",
       " 2     147  ...        68       166       242       227       230       227   \n",
       " 3     210  ...       154       248       247       248       253       236   \n",
       " 4     203  ...        26        40        64        48        29        46   \n",
       " \n",
       "    pixel781  pixel782  pixel783  pixel784  \n",
       " 0       106       112       120       107  \n",
       " 1       184       184       182       180  \n",
       " 2       226       225       224       222  \n",
       " 3       230       240       253       255  \n",
       " 4        49        46        46        53  \n",
       " \n",
       " [5 rows x 785 columns])"
      ]
     },
     "execution_count": 15,
     "metadata": {},
     "output_type": "execute_result"
    }
   ],
   "source": [
    "testdf.shape, testdf.head()"
   ]
  },
  {
   "cell_type": "code",
   "execution_count": null,
   "metadata": {},
   "outputs": [],
   "source": []
  },
  {
   "cell_type": "code",
   "execution_count": 16,
   "metadata": {
    "scrolled": true
   },
   "outputs": [
    {
     "data": {
      "text/plain": [
       "((27455, 784), 0     3\n",
       " 1     6\n",
       " 2     2\n",
       " 3     2\n",
       " 4    13\n",
       " Name: label, dtype: int64)"
      ]
     },
     "execution_count": 16,
     "metadata": {},
     "output_type": "execute_result"
    }
   ],
   "source": [
    "labelstr = traindf['label']\n",
    "traindf.drop(columns =['label'], inplace = True)\n",
    "traindf.shape, labelstr.head()"
   ]
  },
  {
   "cell_type": "code",
   "execution_count": 17,
   "metadata": {},
   "outputs": [
    {
     "data": {
      "text/plain": [
       "((7172, 784), 0     6\n",
       " 1     5\n",
       " 2    10\n",
       " 3     0\n",
       " 4     3\n",
       " Name: label, dtype: int64)"
      ]
     },
     "execution_count": 17,
     "metadata": {},
     "output_type": "execute_result"
    }
   ],
   "source": [
    "labelstt = testdf['label']\n",
    "testdf.drop(columns =['label'], inplace = True)\n",
    "testdf.shape, labelstt.head()"
   ]
  },
  {
   "cell_type": "code",
   "execution_count": 18,
   "metadata": {
    "scrolled": false
   },
   "outputs": [
    {
     "data": {
      "text/plain": [
       "17    1294\n",
       "16    1279\n",
       "11    1241\n",
       "22    1225\n",
       "5     1204\n",
       "18    1199\n",
       "14    1196\n",
       "3     1196\n",
       "19    1186\n",
       "23    1164\n",
       "8     1162\n",
       "20    1161\n",
       "13    1151\n",
       "2     1144\n",
       "0     1126\n",
       "24    1118\n",
       "10    1114\n",
       "6     1090\n",
       "15    1088\n",
       "21    1082\n",
       "12    1055\n",
       "7     1013\n",
       "1     1010\n",
       "4      957\n",
       "Name: label, dtype: int64"
      ]
     },
     "execution_count": 18,
     "metadata": {},
     "output_type": "execute_result"
    }
   ],
   "source": [
    "# no 9(J) or 25(Z)\n",
    "labelstr.value_counts()"
   ]
  },
  {
   "cell_type": "code",
   "execution_count": 19,
   "metadata": {},
   "outputs": [],
   "source": [
    "imagestest = testdf.values\n",
    "imagestest = np.array([np.reshape(i, (28, 28)) for i in imagestest])\n",
    "imagestest = np.array([i.flatten() for i in imagestest])\n",
    "imagestest = imagestest/255"
   ]
  },
  {
   "cell_type": "code",
   "execution_count": 20,
   "metadata": {},
   "outputs": [],
   "source": [
    "images = traindf.values\n",
    "images = np.array([np.reshape(i, (28, 28)) for i in images])\n",
    "images = np.array([i.flatten() for i in images])\n",
    "images = images/255"
   ]
  },
  {
   "cell_type": "code",
   "execution_count": 21,
   "metadata": {},
   "outputs": [
    {
     "data": {
      "text/plain": [
       "<matplotlib.image.AxesImage at 0x13de54fd0>"
      ]
     },
     "execution_count": 21,
     "metadata": {},
     "output_type": "execute_result"
    },
    {
     "data": {
      "image/png": "[encoded data removed]",
      "text/plain": [
       "<Figure size 432x288 with 1 Axes>"
      ]
     },
     "metadata": {
      "needs_background": "light"
     },
     "output_type": "display_data"
    }
   ],
   "source": [
    "plt.imshow(images[0].reshape(28,28))"
   ]
  },
  {
   "cell_type": "code",
   "execution_count": 22,
   "metadata": {},
   "outputs": [
    {
     "data": {
      "text/plain": [
       "3"
      ]
     },
     "execution_count": 22,
     "metadata": {},
     "output_type": "execute_result"
    }
   ],
   "source": [
    "labelstr[0]"
   ]
  },
  {
   "cell_type": "code",
   "execution_count": 23,
   "metadata": {},
   "outputs": [],
   "source": [
    "image_train, image_val, label_train, label_val = train_test_split(images, labelstr, random_state=23, train_size=.8)"
   ]
  },
  {
   "cell_type": "code",
   "execution_count": 24,
   "metadata": {},
   "outputs": [],
   "source": [
    "num_classes = 25\n",
    "label_train = keras.utils.to_categorical(label_train, num_classes)\n",
    "label_val = keras.utils.to_categorical(label_val, num_classes)\n",
    "labelstt = keras.utils.to_categorical(labelstt, num_classes)"
   ]
  },
  {
   "cell_type": "code",
   "execution_count": 25,
   "metadata": {},
   "outputs": [],
   "source": [
    "def visualize_training_results(results):\n",
    "    history = results.history\n",
    "    plt.figure()\n",
    "    plt.plot(history['val_loss'])\n",
    "    plt.plot(history['loss'])\n",
    "    plt.legend(['val_loss', 'loss'])\n",
    "    plt.title('Loss')\n",
    "    plt.xlabel('Epochs')\n",
    "    plt.ylabel('Loss')\n",
    "    plt.show()\n",
    "    \n",
    "    plt.figure()\n",
    "    plt.plot(history['val_accuracy'])\n",
    "    plt.plot(history['accuracy'])\n",
    "    plt.legend(['val_accuracy', 'accuracy'])\n",
    "    plt.title('Accuracy')\n",
    "    plt.xlabel('Epochs')\n",
    "    plt.ylabel('Accuracy')\n",
    "    plt.show()"
   ]
  },
  {
   "cell_type": "markdown",
   "metadata": {},
   "source": [
    "#  MLP"
   ]
  },
  {
   "cell_type": "markdown",
   "metadata": {},
   "source": [
    "## Relu"
   ]
  },
  {
   "cell_type": "code",
   "execution_count": 26,
   "metadata": {},
   "outputs": [],
   "source": [
    "model = models.Sequential()\n",
    "model.add(layers.Dense(30, activation='relu', input_shape=(784,)))\n",
    "model.add(layers.Dense(20, activation='relu'))\n",
    "model.add(layers.Dense(10, activation='relu'))\n",
    "model.add(layers.Dense(5, activation='relu'))\n",
    "model.add(layers.Dense(25, activation='sigmoid'))"
   ]
  },
  {
   "cell_type": "code",
   "execution_count": 27,
   "metadata": {
    "scrolled": true
   },
   "outputs": [
    {
     "name": "stdout",
     "output_type": "stream",
     "text": [
      "Train on 21964 samples, validate on 5491 samples\n",
      "Epoch 1/20\n",
      "21964/21964 [==============================] - 1s 58us/step - loss: 3.2060 - accuracy: 0.0397 - val_loss: 3.1935 - val_accuracy: 0.0459\n",
      "Epoch 2/20\n",
      "21964/21964 [==============================] - 1s 51us/step - loss: 3.1807 - accuracy: 0.0454 - val_loss: 3.1583 - val_accuracy: 0.0479\n",
      "Epoch 3/20\n",
      "21964/21964 [==============================] - 1s 51us/step - loss: 3.1348 - accuracy: 0.0409 - val_loss: 3.0968 - val_accuracy: 0.0504\n",
      "Epoch 4/20\n",
      "21964/21964 [==============================] - 1s 52us/step - loss: 3.0667 - accuracy: 0.0535 - val_loss: 3.0824 - val_accuracy: 0.1131\n",
      "Epoch 5/20\n",
      "21964/21964 [==============================] - 1s 50us/step - loss: 2.9912 - accuracy: 0.0690 - val_loss: 2.9511 - val_accuracy: 0.0765\n",
      "Epoch 6/20\n",
      "21964/21964 [==============================] - 1s 52us/step - loss: 2.8835 - accuracy: 0.0841 - val_loss: 2.7991 - val_accuracy: 0.1069\n",
      "Epoch 7/20\n",
      "21964/21964 [==============================] - 1s 51us/step - loss: 2.7310 - accuracy: 0.1369 - val_loss: 2.7184 - val_accuracy: 0.1502\n",
      "Epoch 8/20\n",
      "21964/21964 [==============================] - 1s 49us/step - loss: 2.6035 - accuracy: 0.1516 - val_loss: 2.7127 - val_accuracy: 0.1260\n",
      "Epoch 9/20\n",
      "21964/21964 [==============================] - 1s 51us/step - loss: 2.5085 - accuracy: 0.1595 - val_loss: 2.6491 - val_accuracy: 0.1430\n",
      "Epoch 10/20\n",
      "21964/21964 [==============================] - 2s 71us/step - loss: 2.4382 - accuracy: 0.1666 - val_loss: 2.4888 - val_accuracy: 0.1473\n",
      "Epoch 11/20\n",
      "21964/21964 [==============================] - 1s 58us/step - loss: 2.3772 - accuracy: 0.1749 - val_loss: 2.4920 - val_accuracy: 0.1238\n",
      "Epoch 12/20\n",
      "21964/21964 [==============================] - 1s 57us/step - loss: 2.3097 - accuracy: 0.1836 - val_loss: 2.2342 - val_accuracy: 0.2284\n",
      "Epoch 13/20\n",
      "21964/21964 [==============================] - 2s 78us/step - loss: 2.2487 - accuracy: 0.1958 - val_loss: 2.4356 - val_accuracy: 0.1688\n",
      "Epoch 14/20\n",
      "21964/21964 [==============================] - 1s 61us/step - loss: 2.1793 - accuracy: 0.2147 - val_loss: 2.0923 - val_accuracy: 0.2131\n",
      "Epoch 15/20\n",
      "21964/21964 [==============================] - 1s 50us/step - loss: 2.1245 - accuracy: 0.2246 - val_loss: 2.1347 - val_accuracy: 0.1965\n",
      "Epoch 16/20\n",
      "21964/21964 [==============================] - 1s 50us/step - loss: 2.0828 - accuracy: 0.2405 - val_loss: 2.1129 - val_accuracy: 0.2267\n",
      "Epoch 17/20\n",
      "21964/21964 [==============================] - 1s 55us/step - loss: 2.0431 - accuracy: 0.2537 - val_loss: 2.2263 - val_accuracy: 0.2306\n",
      "Epoch 18/20\n",
      "21964/21964 [==============================] - 2s 80us/step - loss: 1.9986 - accuracy: 0.2698 - val_loss: 2.0482 - val_accuracy: 0.2628\n",
      "Epoch 19/20\n",
      "21964/21964 [==============================] - 1s 63us/step - loss: 1.9515 - accuracy: 0.2851 - val_loss: 2.0851 - val_accuracy: 0.2129\n",
      "Epoch 20/20\n",
      "21964/21964 [==============================] - 1s 58us/step - loss: 1.9246 - accuracy: 0.2895 - val_loss: 2.0836 - val_accuracy: 0.2890\n"
     ]
    }
   ],
   "source": [
    "model.compile(optimizer ='sgd' ,loss='categorical_crossentropy',metrics=['accuracy'])\n",
    "\n",
    "histoire = model.fit(image_train,\n",
    "                    label_train,\n",
    "                    epochs=20,\n",
    "                    batch_size=32,\n",
    "                    validation_data=(image_val, label_val))"
   ]
  },
  {
   "cell_type": "code",
   "execution_count": 28,
   "metadata": {
    "scrolled": true
   },
   "outputs": [
    {
     "data": {
      "image/png": "[encoded data removed]",
      "text/plain": [
       "<Figure size 432x288 with 1 Axes>"
      ]
     },
     "metadata": {
      "needs_background": "light"
     },
     "output_type": "display_data"
    },
    {
     "data": {
      "image/png": "[encoded data removed]",
      "text/plain": [
       "<Figure size 432x288 with 1 Axes>"
      ]
     },
     "metadata": {
      "needs_background": "light"
     },
     "output_type": "display_data"
    }
   ],
   "source": [
    "visualize_training_results(histoire)"
   ]
  },
  {
   "cell_type": "code",
   "execution_count": 29,
   "metadata": {},
   "outputs": [
    {
     "name": "stdout",
     "output_type": "stream",
     "text": [
      "7172/7172 [==============================] - 0s 24us/step\n"
     ]
    }
   ],
   "source": [
    "results_test1 = model.evaluate(imagestest, labelstt)"
   ]
  },
  {
   "cell_type": "code",
   "execution_count": 30,
   "metadata": {},
   "outputs": [
    {
     "data": {
      "text/plain": [
       "[2.3111519109451497, 0.2339654266834259]"
      ]
     },
     "execution_count": 30,
     "metadata": {},
     "output_type": "execute_result"
    }
   ],
   "source": [
    "results_test1"
   ]
  },
  {
   "cell_type": "markdown",
   "metadata": {},
   "source": [
    "## Softmax"
   ]
  },
  {
   "cell_type": "code",
   "execution_count": 31,
   "metadata": {},
   "outputs": [],
   "source": [
    "model2 = models.Sequential()\n",
    "model2.add(layers.Dense(80, activation='relu', input_shape=(784,)))\n",
    "model2.add(layers.Dense(40, activation='relu'))\n",
    "model2.add(layers.Dense(20, activation='relu'))\n",
    "model2.add(layers.Dense(10, activation='relu'))\n",
    "model2.add(layers.Dense(25, activation='softmax'))"
   ]
  },
  {
   "cell_type": "code",
   "execution_count": 32,
   "metadata": {
    "scrolled": true
   },
   "outputs": [
    {
     "name": "stdout",
     "output_type": "stream",
     "text": [
      "Train on 21964 samples, validate on 5491 samples\n",
      "Epoch 1/20\n",
      "21964/21964 [==============================] - 2s 72us/step - loss: 3.1365 - accuracy: 0.0671 - val_loss: 3.0118 - val_accuracy: 0.0969\n",
      "Epoch 2/20\n",
      "21964/21964 [==============================] - 1s 68us/step - loss: 2.8086 - accuracy: 0.1434 - val_loss: 2.7108 - val_accuracy: 0.1266\n",
      "Epoch 3/20\n",
      "21964/21964 [==============================] - 1s 67us/step - loss: 2.4444 - accuracy: 0.2186 - val_loss: 2.4849 - val_accuracy: 0.2009\n",
      "Epoch 4/20\n",
      "21964/21964 [==============================] - 2s 69us/step - loss: 2.0965 - accuracy: 0.3088 - val_loss: 1.9994 - val_accuracy: 0.3320\n",
      "Epoch 5/20\n",
      "21964/21964 [==============================] - 1s 61us/step - loss: 1.8377 - accuracy: 0.3830 - val_loss: 2.0069 - val_accuracy: 0.3009\n",
      "Epoch 6/20\n",
      "21964/21964 [==============================] - 2s 106us/step - loss: 1.6683 - accuracy: 0.4262 - val_loss: 1.6862 - val_accuracy: 0.4274\n",
      "Epoch 7/20\n",
      "21964/21964 [==============================] - 2s 88us/step - loss: 1.5146 - accuracy: 0.4760 - val_loss: 1.6833 - val_accuracy: 0.4280\n",
      "Epoch 8/20\n",
      "21964/21964 [==============================] - 2s 68us/step - loss: 1.3955 - accuracy: 0.5104 - val_loss: 1.4431 - val_accuracy: 0.4837\n",
      "Epoch 9/20\n",
      "21964/21964 [==============================] - 1s 59us/step - loss: 1.2817 - accuracy: 0.5473 - val_loss: 1.3723 - val_accuracy: 0.5336\n",
      "Epoch 10/20\n",
      "21964/21964 [==============================] - 1s 59us/step - loss: 1.1650 - accuracy: 0.5845 - val_loss: 1.1334 - val_accuracy: 0.5990\n",
      "Epoch 11/20\n",
      "21964/21964 [==============================] - 1s 59us/step - loss: 1.0851 - accuracy: 0.6166 - val_loss: 1.2270 - val_accuracy: 0.5580\n",
      "Epoch 12/20\n",
      "21964/21964 [==============================] - 1s 59us/step - loss: 0.9941 - accuracy: 0.6476 - val_loss: 0.8305 - val_accuracy: 0.7024\n",
      "Epoch 13/20\n",
      "21964/21964 [==============================] - 1s 57us/step - loss: 0.9127 - accuracy: 0.6753 - val_loss: 1.0013 - val_accuracy: 0.6505\n",
      "Epoch 14/20\n",
      "21964/21964 [==============================] - 1s 58us/step - loss: 0.8819 - accuracy: 0.6950 - val_loss: 1.0213 - val_accuracy: 0.6369\n",
      "Epoch 15/20\n",
      "21964/21964 [==============================] - 1s 59us/step - loss: 0.7762 - accuracy: 0.7295 - val_loss: 1.2597 - val_accuracy: 0.5751\n",
      "Epoch 16/20\n",
      "21964/21964 [==============================] - 1s 57us/step - loss: 0.7071 - accuracy: 0.7571 - val_loss: 0.6611 - val_accuracy: 0.7545\n",
      "Epoch 17/20\n",
      "21964/21964 [==============================] - 1s 58us/step - loss: 0.6634 - accuracy: 0.7732 - val_loss: 0.6381 - val_accuracy: 0.7614\n",
      "Epoch 18/20\n",
      "21964/21964 [==============================] - 1s 58us/step - loss: 0.6006 - accuracy: 0.7953 - val_loss: 0.4800 - val_accuracy: 0.8241\n",
      "Epoch 19/20\n",
      "21964/21964 [==============================] - 1s 59us/step - loss: 0.5618 - accuracy: 0.8142 - val_loss: 0.7845 - val_accuracy: 0.7225\n",
      "Epoch 20/20\n",
      "21964/21964 [==============================] - 1s 58us/step - loss: 0.5445 - accuracy: 0.8209 - val_loss: 0.5306 - val_accuracy: 0.8177\n"
     ]
    }
   ],
   "source": [
    "model2.compile(optimizer ='sgd' ,loss='categorical_crossentropy',metrics=['accuracy'])\n",
    "\n",
    "history = model2.fit(image_train,\n",
    "                    label_train,\n",
    "                    epochs=20,\n",
    "                    batch_size=32,\n",
    "                    validation_data=(image_val, label_val))"
   ]
  },
  {
   "cell_type": "code",
   "execution_count": 33,
   "metadata": {
    "scrolled": true
   },
   "outputs": [
    {
     "data": {
      "image/png": "[encoded data removed]",
      "text/plain": [
       "<Figure size 432x288 with 1 Axes>"
      ]
     },
     "metadata": {
      "needs_background": "light"
     },
     "output_type": "display_data"
    },
    {
     "data": {
      "image/png": "[encoded data removed]",
      "text/plain": [
       "<Figure size 432x288 with 1 Axes>"
      ]
     },
     "metadata": {
      "needs_background": "light"
     },
     "output_type": "display_data"
    }
   ],
   "source": [
    "visualize_training_results(history)"
   ]
  },
  {
   "cell_type": "code",
   "execution_count": 34,
   "metadata": {},
   "outputs": [
    {
     "name": "stdout",
     "output_type": "stream",
     "text": [
      "7172/7172 [==============================] - 0s 24us/step\n"
     ]
    }
   ],
   "source": [
    "results_test2 = model2.evaluate(imagestest, labelstt)"
   ]
  },
  {
   "cell_type": "code",
   "execution_count": 35,
   "metadata": {},
   "outputs": [
    {
     "data": {
      "text/plain": [
       "[1.372835211858893, 0.6264640092849731]"
      ]
     },
     "execution_count": 35,
     "metadata": {},
     "output_type": "execute_result"
    }
   ],
   "source": [
    "results_test2"
   ]
  },
  {
   "cell_type": "markdown",
   "metadata": {},
   "source": [
    "### Hypertuning"
   ]
  },
  {
   "cell_type": "code",
   "execution_count": 36,
   "metadata": {
    "scrolled": true
   },
   "outputs": [
    {
     "name": "stdout",
     "output_type": "stream",
     "text": [
      "Train on 21964 samples, validate on 5491 samples\n",
      "Epoch 1/20\n",
      "21964/21964 [==============================] - 1s 65us/step - loss: 3.3808 - accuracy: 0.0724 - val_loss: 3.1790 - val_accuracy: 0.1229\n",
      "Epoch 2/20\n",
      "21964/21964 [==============================] - 1s 59us/step - loss: 2.8538 - accuracy: 0.1887 - val_loss: 2.4230 - val_accuracy: 0.2854\n",
      "Epoch 3/20\n",
      "21964/21964 [==============================] - 1s 59us/step - loss: 2.3347 - accuracy: 0.3120 - val_loss: 2.2748 - val_accuracy: 0.3243\n",
      "Epoch 4/20\n",
      "21964/21964 [==============================] - 1s 59us/step - loss: 2.0104 - accuracy: 0.4053 - val_loss: 1.7638 - val_accuracy: 0.4852\n",
      "Epoch 5/20\n",
      "21964/21964 [==============================] - 1s 63us/step - loss: 1.7939 - accuracy: 0.4661 - val_loss: 1.6216 - val_accuracy: 0.5148\n",
      "Epoch 6/20\n",
      "21964/21964 [==============================] - 1s 58us/step - loss: 1.6127 - accuracy: 0.5175 - val_loss: 3.2320 - val_accuracy: 0.2650\n",
      "Epoch 7/20\n",
      "21964/21964 [==============================] - 1s 59us/step - loss: 1.4440 - accuracy: 0.5625 - val_loss: 1.3177 - val_accuracy: 0.6054\n",
      "Epoch 8/20\n",
      "21964/21964 [==============================] - 1s 59us/step - loss: 1.3124 - accuracy: 0.6071 - val_loss: 2.0508 - val_accuracy: 0.4251\n",
      "Epoch 9/20\n",
      "21964/21964 [==============================] - 1s 60us/step - loss: 1.1895 - accuracy: 0.6427 - val_loss: 1.1224 - val_accuracy: 0.6702\n",
      "Epoch 10/20\n",
      "21964/21964 [==============================] - 1s 59us/step - loss: 1.0778 - accuracy: 0.6795 - val_loss: 1.9059 - val_accuracy: 0.4689\n",
      "Epoch 11/20\n",
      "21964/21964 [==============================] - 1s 59us/step - loss: 0.9923 - accuracy: 0.7082 - val_loss: 0.9216 - val_accuracy: 0.7286\n",
      "Epoch 12/20\n",
      "21964/21964 [==============================] - 1s 61us/step - loss: 0.9067 - accuracy: 0.7374 - val_loss: 0.8098 - val_accuracy: 0.7618\n",
      "Epoch 13/20\n",
      "21964/21964 [==============================] - 1s 60us/step - loss: 0.8288 - accuracy: 0.7602 - val_loss: 0.6472 - val_accuracy: 0.8221\n",
      "Epoch 14/20\n",
      "21964/21964 [==============================] - 1s 59us/step - loss: 0.7418 - accuracy: 0.7882 - val_loss: 0.5949 - val_accuracy: 0.8499\n",
      "Epoch 15/20\n",
      "21964/21964 [==============================] - 1s 59us/step - loss: 0.6749 - accuracy: 0.8102 - val_loss: 1.1479 - val_accuracy: 0.6398\n",
      "Epoch 16/20\n",
      "21964/21964 [==============================] - 1s 59us/step - loss: 0.6376 - accuracy: 0.8237 - val_loss: 0.6098 - val_accuracy: 0.8179\n",
      "Epoch 17/20\n",
      "21964/21964 [==============================] - 1s 61us/step - loss: 0.5807 - accuracy: 0.8443 - val_loss: 0.8490 - val_accuracy: 0.7470\n",
      "Epoch 18/20\n",
      "21964/21964 [==============================] - 1s 59us/step - loss: 0.5087 - accuracy: 0.8656 - val_loss: 0.6905 - val_accuracy: 0.7798\n",
      "Epoch 19/20\n",
      "21964/21964 [==============================] - 1s 59us/step - loss: 0.4749 - accuracy: 0.8790 - val_loss: 0.5231 - val_accuracy: 0.8609\n",
      "Epoch 20/20\n",
      "21964/21964 [==============================] - 1s 60us/step - loss: 0.4444 - accuracy: 0.8931 - val_loss: 0.4754 - val_accuracy: 0.8525\n"
     ]
    }
   ],
   "source": [
    "model3 = models.Sequential()\n",
    "model3.add(layers.Dense(80, activation='relu', input_shape=(784,)))\n",
    "model3.add(layers.Dense(40, activation='relu', kernel_regularizer=regularizers.l2(0.005),))\n",
    "model3.add(layers.Dense(20, activation='relu'))\n",
    "model3.add(layers.Dense(10, activation='relu'))\n",
    "model3.add(layers.Dense(25, activation='softmax'))\n",
    "\n",
    "model3.compile(optimizer ='sgd' ,loss='categorical_crossentropy',metrics=['accuracy'])\n",
    "\n",
    "history3 = model3.fit(image_train,\n",
    "                    label_train,\n",
    "                    epochs=20,\n",
    "                    batch_size=32,\n",
    "                    validation_data=(image_val, label_val))"
   ]
  },
  {
   "cell_type": "code",
   "execution_count": 37,
   "metadata": {},
   "outputs": [
    {
     "name": "stdout",
     "output_type": "stream",
     "text": [
      "7172/7172 [==============================] - 0s 30us/step\n"
     ]
    }
   ],
   "source": [
    "results_test3 = model3.evaluate(imagestest, labelstt)"
   ]
  },
  {
   "cell_type": "code",
   "execution_count": 38,
   "metadata": {},
   "outputs": [
    {
     "data": {
      "text/plain": [
       "[1.2838756045481379, 0.6325989961624146]"
      ]
     },
     "execution_count": 38,
     "metadata": {},
     "output_type": "execute_result"
    }
   ],
   "source": [
    "results_test3"
   ]
  },
  {
   "cell_type": "markdown",
   "metadata": {},
   "source": [
    "# CNN"
   ]
  },
  {
   "cell_type": "code",
   "execution_count": 39,
   "metadata": {},
   "outputs": [],
   "source": [
    "image_train  = np.array([np.reshape(i, (28, 28)) for i in image_train])\n",
    "image_val  = np.array([np.reshape(i, (28, 28)) for i in image_val])\n",
    "imagestest  = np.array([np.reshape(i, (28, 28)) for i in imagestest])"
   ]
  },
  {
   "cell_type": "code",
   "execution_count": 56,
   "metadata": {},
   "outputs": [],
   "source": [
    "modelcnn = models.Sequential()\n",
    "modelcnn.add(layers.Conv1D(64, (3), activation='relu',\n",
    "                        input_shape=(28, 28)))\n",
    "modelcnn.add(layers.MaxPooling1D((2)))\n",
    "\n",
    "modelcnn.add(layers.Conv1D(128, (3), activation='relu'))\n",
    "modelcnn.add(layers.MaxPooling1D((2)))\n",
    "\n",
    "modelcnn.add(layers.Conv1D(256, (3), activation='relu'))\n",
    "modelcnn.add(layers.MaxPooling1D((2)))\n",
    "\n",
    "# modelcnn.add(layers.Conv1D(512, (3), activation='relu'))\n",
    "# modelcnn.add(layers.MaxPooling1D((2)))\n",
    "\n",
    "modelcnn.add(layers.Flatten())\n",
    "modelcnn.add(layers.Dense(64, activation='relu'))\n",
    "modelcnn.add(layers.Dropout(.1))\n",
    "\n",
    "modelcnn.add(layers.Dense(25, activation='softmax'))\n",
    "\n",
    "modelcnn.compile(loss='categorical_crossentropy',\n",
    "              optimizer=\"sgd\",\n",
    "              metrics=['accuracy'])"
   ]
  },
  {
   "cell_type": "code",
   "execution_count": null,
   "metadata": {},
   "outputs": [
    {
     "name": "stdout",
     "output_type": "stream",
     "text": [
      "Train on 21964 samples, validate on 5491 samples\n",
      "Epoch 1/20\n",
      "21964/21964 [==============================] - 5s 206us/step - loss: 3.1499 - accuracy: 0.0990 - val_loss: 3.0355 - val_accuracy: 0.1246\n",
      "Epoch 2/20\n",
      "21964/21964 [==============================] - 5s 215us/step - loss: 2.6841 - accuracy: 0.2060 - val_loss: 2.2082 - val_accuracy: 0.3345\n",
      "Epoch 3/20\n",
      "21964/21964 [==============================] - 5s 206us/step - loss: 2.0392 - accuracy: 0.3498 - val_loss: 1.7680 - val_accuracy: 0.4498\n",
      "Epoch 4/20\n",
      "21964/21964 [==============================] - 4s 194us/step - loss: 1.6285 - accuracy: 0.4780 - val_loss: 1.3828 - val_accuracy: 0.5556\n",
      "Epoch 5/20\n",
      "21964/21964 [==============================] - 4s 196us/step - loss: 1.3044 - accuracy: 0.5695 - val_loss: 1.1582 - val_accuracy: 0.6154\n",
      "Epoch 6/20\n",
      "21964/21964 [==============================] - 4s 195us/step - loss: 1.0592 - accuracy: 0.6512 - val_loss: 0.8987 - val_accuracy: 0.7048\n",
      "Epoch 7/20\n",
      "21964/21964 [==============================] - 4s 198us/step - loss: 0.8575 - accuracy: 0.7158 - val_loss: 0.7571 - val_accuracy: 0.7662\n",
      "Epoch 8/20\n",
      "21964/21964 [==============================] - 4s 197us/step - loss: 0.7186 - accuracy: 0.7563 - val_loss: 0.5880 - val_accuracy: 0.8124\n",
      "Epoch 9/20\n",
      "21964/21964 [==============================] - 4s 199us/step - loss: 0.5924 - accuracy: 0.8030 - val_loss: 0.4515 - val_accuracy: 0.8563\n",
      "Epoch 10/20\n",
      "21964/21964 [==============================] - 4s 199us/step - loss: 0.4982 - accuracy: 0.8338 - val_loss: 0.4356 - val_accuracy: 0.8634\n",
      "Epoch 11/20\n",
      "21964/21964 [==============================] - 5s 209us/step - loss: 0.4109 - accuracy: 0.8619 - val_loss: 0.3500 - val_accuracy: 0.8878\n",
      "Epoch 12/20\n",
      "21964/21964 [==============================] - 5s 211us/step - loss: 0.3409 - accuracy: 0.8898 - val_loss: 0.2820 - val_accuracy: 0.9128\n",
      "Epoch 13/20\n",
      "21964/21964 [==============================] - 5s 212us/step - loss: 0.2777 - accuracy: 0.9132 - val_loss: 0.2706 - val_accuracy: 0.9206\n",
      "Epoch 14/20\n",
      "21964/21964 [==============================] - 5s 214us/step - loss: 0.2346 - accuracy: 0.9280 - val_loss: 0.1291 - val_accuracy: 0.9681\n",
      "Epoch 15/20\n",
      "21964/21964 [==============================] - 5s 216us/step - loss: 0.1973 - accuracy: 0.9387 - val_loss: 0.1115 - val_accuracy: 0.9761\n",
      "Epoch 16/20\n",
      "21964/21964 [==============================] - 5s 222us/step - loss: 0.1688 - accuracy: 0.9483 - val_loss: 0.1085 - val_accuracy: 0.9743\n",
      "Epoch 17/20\n",
      "21964/21964 [==============================] - 5s 230us/step - loss: 0.1451 - accuracy: 0.9578 - val_loss: 0.0709 - val_accuracy: 0.9887\n",
      "Epoch 18/20\n",
      "21964/21964 [==============================] - 5s 223us/step - loss: 0.1231 - accuracy: 0.9646 - val_loss: 0.0564 - val_accuracy: 0.9887\n",
      "Epoch 19/20\n",
      "21964/21964 [==============================] - 5s 223us/step - loss: 0.1096 - accuracy: 0.9698 - val_loss: 0.0553 - val_accuracy: 0.9924\n",
      "Epoch 20/20\n",
      "13952/21964 [==================>...........] - ETA: 1s - loss: 0.0980 - accuracy: 0.9722"
     ]
    }
   ],
   "source": [
    "results = modelcnn.fit(image_train,\n",
    "                      label_train,\n",
    "                      epochs = 20,\n",
    "                      batch_size=32,\n",
    "                      validation_data=(image_val, label_val))"
   ]
  },
  {
   "cell_type": "code",
   "execution_count": null,
   "metadata": {},
   "outputs": [],
   "source": [
    "modelcnn.summary()"
   ]
  },
  {
   "cell_type": "code",
   "execution_count": null,
   "metadata": {},
   "outputs": [],
   "source": [
    "visualize_training_results(results)"
   ]
  },
  {
   "cell_type": "markdown",
   "metadata": {},
   "source": [
    "# Evaluating "
   ]
  },
  {
   "cell_type": "code",
   "execution_count": null,
   "metadata": {},
   "outputs": [],
   "source": [
    "results_testcnn = modelcnn.evaluate(imagestest, labelstt)"
   ]
  },
  {
   "cell_type": "code",
   "execution_count": null,
   "metadata": {},
   "outputs": [],
   "source": [
    "results_testcnn"
   ]
  },
  {
   "cell_type": "code",
   "execution_count": null,
   "metadata": {},
   "outputs": [],
   "source": []
  }
 ],
 "metadata": {
  "kernelspec": {
   "display_name": "Python 3",
   "language": "python",
   "name": "python3"
  },
  "language_info": {
   "codemirror_mode": {
    "name": "ipython",
    "version": 3
   },
   "file_extension": ".py",
   "mimetype": "text/x-python",
   "name": "python",
   "nbconvert_exporter": "python",
   "pygments_lexer": "ipython3",
   "version": "3.7.4"
  },
  "toc": {
   "base_numbering": 1,
   "nav_menu": {},
   "number_sections": true,
   "sideBar": true,
   "skip_h1_title": false,
   "title_cell": "Table of Contents",
   "title_sidebar": "Contents",
   "toc_cell": false,
   "toc_position": {
    "height": "calc(100% - 180px)",
    "left": "10px",
    "top": "150px",
    "width": "288px"
   },
   "toc_section_display": true,
   "toc_window_display": true
  },
  "varInspector": {
   "cols": {
    "lenName": 16,
    "lenType": 16,
    "lenVar": 40
   },
   "kernels_config": {
    "python": {
     "delete_cmd_postfix": "",
     "delete_cmd_prefix": "del ",
     "library": "var_list.py",
     "varRefreshCmd": "print(var_dic_list())"
    },
    "r": {
     "delete_cmd_postfix": ") ",
     "delete_cmd_prefix": "rm(",
     "library": "var_list.r",
     "varRefreshCmd": "cat(var_dic_list()) "
    }
   },
   "types_to_exclude": [
    "module",
    "function",
    "builtin_function_or_method",
    "instance",
    "_Feature"
   ],
   "window_display": false
  }
 },
 "nbformat": 4,
 "nbformat_minor": 2
}
