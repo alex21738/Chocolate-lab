{
 "cells": [
  {
   "cell_type": "code",
   "execution_count": 75,
   "metadata": {},
   "outputs": [],
   "source": [
    "import pandas as pd\n",
    "import numpy as np\n",
    "import matplotlib.pyplot as plt\n",
    "from sklearn.model_selection import train_test_split\n",
    "from sklearn.preprocessing import LabelBinarizer\n",
    "from keras import models\n",
    "from keras import layers\n",
    "\n",
    "import keras\n",
    "from keras.datasets import mnist\n",
    "from keras.models import Sequential\n",
    "from keras.layers import Dense, Dropout\n",
    "from keras.optimizers import RMSprop\n",
    "from keras.optimizers import Adam, SGD\n",
    "from keras import regularizers\n"
   ]
  },
  {
   "cell_type": "code",
   "execution_count": 4,
   "metadata": {},
   "outputs": [],
   "source": [
    "testdf=pd.read_csv('sign_mnist_test.csv')\n",
    "traindf=pd.read_csv('sign_mnist_train.csv')"
   ]
  },
  {
   "cell_type": "code",
   "execution_count": 5,
   "metadata": {},
   "outputs": [
    {
     "data": {
      "text/plain": [
       "((27455, 785),\n",
       "    label  pixel1  pixel2  pixel3  pixel4  pixel5  pixel6  pixel7  pixel8  \\\n",
       " 0      3     107     118     127     134     139     143     146     150   \n",
       " 1      6     155     157     156     156     156     157     156     158   \n",
       " 2      2     187     188     188     187     187     186     187     188   \n",
       " 3      2     211     211     212     212     211     210     211     210   \n",
       " 4     13     164     167     170     172     176     179     180     184   \n",
       " \n",
       "    pixel9  ...  pixel775  pixel776  pixel777  pixel778  pixel779  pixel780  \\\n",
       " 0     153  ...       207       207       207       207       206       206   \n",
       " 1     158  ...        69       149       128        87        94       163   \n",
       " 2     187  ...       202       201       200       199       198       199   \n",
       " 3     210  ...       235       234       233       231       230       226   \n",
       " 4     185  ...        92       105       105       108       133       163   \n",
       " \n",
       "    pixel781  pixel782  pixel783  pixel784  \n",
       " 0       206       204       203       202  \n",
       " 1       175       103       135       149  \n",
       " 2       198       195       194       195  \n",
       " 3       225       222       229       163  \n",
       " 4       157       163       164       179  \n",
       " \n",
       " [5 rows x 785 columns])"
      ]
     },
     "execution_count": 5,
     "metadata": {},
     "output_type": "execute_result"
    }
   ],
   "source": [
    "traindf.shape, traindf.head()"
   ]
  },
  {
   "cell_type": "code",
   "execution_count": 6,
   "metadata": {},
   "outputs": [
    {
     "data": {
      "text/plain": [
       "((7172, 785),\n",
       "    label  pixel1  pixel2  pixel3  pixel4  pixel5  pixel6  pixel7  pixel8  \\\n",
       " 0      6     149     149     150     150     150     151     151     150   \n",
       " 1      5     126     128     131     132     133     134     135     135   \n",
       " 2     10      85      88      92      96     105     123     135     143   \n",
       " 3      0     203     205     207     206     207     209     210     209   \n",
       " 4      3     188     191     193     195     199     201     202     203   \n",
       " \n",
       "    pixel9  ...  pixel775  pixel776  pixel777  pixel778  pixel779  pixel780  \\\n",
       " 0     151  ...       138       148       127        89        82        96   \n",
       " 1     136  ...        47       104       194       183       186       184   \n",
       " 2     147  ...        68       166       242       227       230       227   \n",
       " 3     210  ...       154       248       247       248       253       236   \n",
       " 4     203  ...        26        40        64        48        29        46   \n",
       " \n",
       "    pixel781  pixel782  pixel783  pixel784  \n",
       " 0       106       112       120       107  \n",
       " 1       184       184       182       180  \n",
       " 2       226       225       224       222  \n",
       " 3       230       240       253       255  \n",
       " 4        49        46        46        53  \n",
       " \n",
       " [5 rows x 785 columns])"
      ]
     },
     "execution_count": 6,
     "metadata": {},
     "output_type": "execute_result"
    }
   ],
   "source": [
    "testdf.shape, testdf.head()"
   ]
  },
  {
   "cell_type": "code",
   "execution_count": 47,
   "metadata": {},
   "outputs": [
    {
     "data": {
      "text/html": [
       "<div>\n",
       "<style scoped>\n",
       "    .dataframe tbody tr th:only-of-type {\n",
       "        vertical-align: middle;\n",
       "    }\n",
       "\n",
       "    .dataframe tbody tr th {\n",
       "        vertical-align: top;\n",
       "    }\n",
       "\n",
       "    .dataframe thead th {\n",
       "        text-align: right;\n",
       "    }\n",
       "</style>\n",
       "<table border=\"1\" class=\"dataframe\">\n",
       "  <thead>\n",
       "    <tr style=\"text-align: right;\">\n",
       "      <th></th>\n",
       "      <th>label</th>\n",
       "      <th>pixel1</th>\n",
       "      <th>pixel2</th>\n",
       "      <th>pixel3</th>\n",
       "      <th>pixel4</th>\n",
       "      <th>pixel5</th>\n",
       "      <th>pixel6</th>\n",
       "      <th>pixel7</th>\n",
       "      <th>pixel8</th>\n",
       "      <th>pixel9</th>\n",
       "      <th>...</th>\n",
       "      <th>pixel775</th>\n",
       "      <th>pixel776</th>\n",
       "      <th>pixel777</th>\n",
       "      <th>pixel778</th>\n",
       "      <th>pixel779</th>\n",
       "      <th>pixel780</th>\n",
       "      <th>pixel781</th>\n",
       "      <th>pixel782</th>\n",
       "      <th>pixel783</th>\n",
       "      <th>pixel784</th>\n",
       "    </tr>\n",
       "  </thead>\n",
       "  <tbody>\n",
       "    <tr>\n",
       "      <td>0</td>\n",
       "      <td>6</td>\n",
       "      <td>149</td>\n",
       "      <td>149</td>\n",
       "      <td>150</td>\n",
       "      <td>150</td>\n",
       "      <td>150</td>\n",
       "      <td>151</td>\n",
       "      <td>151</td>\n",
       "      <td>150</td>\n",
       "      <td>151</td>\n",
       "      <td>...</td>\n",
       "      <td>138</td>\n",
       "      <td>148</td>\n",
       "      <td>127</td>\n",
       "      <td>89</td>\n",
       "      <td>82</td>\n",
       "      <td>96</td>\n",
       "      <td>106</td>\n",
       "      <td>112</td>\n",
       "      <td>120</td>\n",
       "      <td>107</td>\n",
       "    </tr>\n",
       "    <tr>\n",
       "      <td>1</td>\n",
       "      <td>5</td>\n",
       "      <td>126</td>\n",
       "      <td>128</td>\n",
       "      <td>131</td>\n",
       "      <td>132</td>\n",
       "      <td>133</td>\n",
       "      <td>134</td>\n",
       "      <td>135</td>\n",
       "      <td>135</td>\n",
       "      <td>136</td>\n",
       "      <td>...</td>\n",
       "      <td>47</td>\n",
       "      <td>104</td>\n",
       "      <td>194</td>\n",
       "      <td>183</td>\n",
       "      <td>186</td>\n",
       "      <td>184</td>\n",
       "      <td>184</td>\n",
       "      <td>184</td>\n",
       "      <td>182</td>\n",
       "      <td>180</td>\n",
       "    </tr>\n",
       "    <tr>\n",
       "      <td>2</td>\n",
       "      <td>10</td>\n",
       "      <td>85</td>\n",
       "      <td>88</td>\n",
       "      <td>92</td>\n",
       "      <td>96</td>\n",
       "      <td>105</td>\n",
       "      <td>123</td>\n",
       "      <td>135</td>\n",
       "      <td>143</td>\n",
       "      <td>147</td>\n",
       "      <td>...</td>\n",
       "      <td>68</td>\n",
       "      <td>166</td>\n",
       "      <td>242</td>\n",
       "      <td>227</td>\n",
       "      <td>230</td>\n",
       "      <td>227</td>\n",
       "      <td>226</td>\n",
       "      <td>225</td>\n",
       "      <td>224</td>\n",
       "      <td>222</td>\n",
       "    </tr>\n",
       "    <tr>\n",
       "      <td>3</td>\n",
       "      <td>0</td>\n",
       "      <td>203</td>\n",
       "      <td>205</td>\n",
       "      <td>207</td>\n",
       "      <td>206</td>\n",
       "      <td>207</td>\n",
       "      <td>209</td>\n",
       "      <td>210</td>\n",
       "      <td>209</td>\n",
       "      <td>210</td>\n",
       "      <td>...</td>\n",
       "      <td>154</td>\n",
       "      <td>248</td>\n",
       "      <td>247</td>\n",
       "      <td>248</td>\n",
       "      <td>253</td>\n",
       "      <td>236</td>\n",
       "      <td>230</td>\n",
       "      <td>240</td>\n",
       "      <td>253</td>\n",
       "      <td>255</td>\n",
       "    </tr>\n",
       "    <tr>\n",
       "      <td>4</td>\n",
       "      <td>3</td>\n",
       "      <td>188</td>\n",
       "      <td>191</td>\n",
       "      <td>193</td>\n",
       "      <td>195</td>\n",
       "      <td>199</td>\n",
       "      <td>201</td>\n",
       "      <td>202</td>\n",
       "      <td>203</td>\n",
       "      <td>203</td>\n",
       "      <td>...</td>\n",
       "      <td>26</td>\n",
       "      <td>40</td>\n",
       "      <td>64</td>\n",
       "      <td>48</td>\n",
       "      <td>29</td>\n",
       "      <td>46</td>\n",
       "      <td>49</td>\n",
       "      <td>46</td>\n",
       "      <td>46</td>\n",
       "      <td>53</td>\n",
       "    </tr>\n",
       "    <tr>\n",
       "      <td>...</td>\n",
       "      <td>...</td>\n",
       "      <td>...</td>\n",
       "      <td>...</td>\n",
       "      <td>...</td>\n",
       "      <td>...</td>\n",
       "      <td>...</td>\n",
       "      <td>...</td>\n",
       "      <td>...</td>\n",
       "      <td>...</td>\n",
       "      <td>...</td>\n",
       "      <td>...</td>\n",
       "      <td>...</td>\n",
       "      <td>...</td>\n",
       "      <td>...</td>\n",
       "      <td>...</td>\n",
       "      <td>...</td>\n",
       "      <td>...</td>\n",
       "      <td>...</td>\n",
       "      <td>...</td>\n",
       "      <td>...</td>\n",
       "      <td>...</td>\n",
       "    </tr>\n",
       "    <tr>\n",
       "      <td>34622</td>\n",
       "      <td>13</td>\n",
       "      <td>189</td>\n",
       "      <td>189</td>\n",
       "      <td>190</td>\n",
       "      <td>190</td>\n",
       "      <td>192</td>\n",
       "      <td>193</td>\n",
       "      <td>193</td>\n",
       "      <td>193</td>\n",
       "      <td>193</td>\n",
       "      <td>...</td>\n",
       "      <td>132</td>\n",
       "      <td>165</td>\n",
       "      <td>99</td>\n",
       "      <td>77</td>\n",
       "      <td>52</td>\n",
       "      <td>200</td>\n",
       "      <td>234</td>\n",
       "      <td>200</td>\n",
       "      <td>222</td>\n",
       "      <td>225</td>\n",
       "    </tr>\n",
       "    <tr>\n",
       "      <td>34623</td>\n",
       "      <td>23</td>\n",
       "      <td>151</td>\n",
       "      <td>154</td>\n",
       "      <td>157</td>\n",
       "      <td>158</td>\n",
       "      <td>160</td>\n",
       "      <td>161</td>\n",
       "      <td>163</td>\n",
       "      <td>164</td>\n",
       "      <td>166</td>\n",
       "      <td>...</td>\n",
       "      <td>198</td>\n",
       "      <td>198</td>\n",
       "      <td>198</td>\n",
       "      <td>198</td>\n",
       "      <td>198</td>\n",
       "      <td>196</td>\n",
       "      <td>195</td>\n",
       "      <td>195</td>\n",
       "      <td>195</td>\n",
       "      <td>194</td>\n",
       "    </tr>\n",
       "    <tr>\n",
       "      <td>34624</td>\n",
       "      <td>18</td>\n",
       "      <td>174</td>\n",
       "      <td>174</td>\n",
       "      <td>174</td>\n",
       "      <td>174</td>\n",
       "      <td>174</td>\n",
       "      <td>175</td>\n",
       "      <td>175</td>\n",
       "      <td>174</td>\n",
       "      <td>173</td>\n",
       "      <td>...</td>\n",
       "      <td>121</td>\n",
       "      <td>196</td>\n",
       "      <td>209</td>\n",
       "      <td>208</td>\n",
       "      <td>206</td>\n",
       "      <td>204</td>\n",
       "      <td>203</td>\n",
       "      <td>202</td>\n",
       "      <td>200</td>\n",
       "      <td>200</td>\n",
       "    </tr>\n",
       "    <tr>\n",
       "      <td>34625</td>\n",
       "      <td>17</td>\n",
       "      <td>177</td>\n",
       "      <td>181</td>\n",
       "      <td>184</td>\n",
       "      <td>185</td>\n",
       "      <td>187</td>\n",
       "      <td>189</td>\n",
       "      <td>190</td>\n",
       "      <td>191</td>\n",
       "      <td>191</td>\n",
       "      <td>...</td>\n",
       "      <td>119</td>\n",
       "      <td>56</td>\n",
       "      <td>27</td>\n",
       "      <td>58</td>\n",
       "      <td>102</td>\n",
       "      <td>79</td>\n",
       "      <td>47</td>\n",
       "      <td>64</td>\n",
       "      <td>87</td>\n",
       "      <td>93</td>\n",
       "    </tr>\n",
       "    <tr>\n",
       "      <td>34626</td>\n",
       "      <td>23</td>\n",
       "      <td>179</td>\n",
       "      <td>180</td>\n",
       "      <td>180</td>\n",
       "      <td>180</td>\n",
       "      <td>182</td>\n",
       "      <td>181</td>\n",
       "      <td>182</td>\n",
       "      <td>183</td>\n",
       "      <td>182</td>\n",
       "      <td>...</td>\n",
       "      <td>108</td>\n",
       "      <td>132</td>\n",
       "      <td>170</td>\n",
       "      <td>194</td>\n",
       "      <td>214</td>\n",
       "      <td>203</td>\n",
       "      <td>197</td>\n",
       "      <td>205</td>\n",
       "      <td>209</td>\n",
       "      <td>215</td>\n",
       "    </tr>\n",
       "  </tbody>\n",
       "</table>\n",
       "<p>34627 rows × 785 columns</p>\n",
       "</div>"
      ],
      "text/plain": [
       "       label  pixel1  pixel2  pixel3  pixel4  pixel5  pixel6  pixel7  pixel8  \\\n",
       "0          6     149     149     150     150     150     151     151     150   \n",
       "1          5     126     128     131     132     133     134     135     135   \n",
       "2         10      85      88      92      96     105     123     135     143   \n",
       "3          0     203     205     207     206     207     209     210     209   \n",
       "4          3     188     191     193     195     199     201     202     203   \n",
       "...      ...     ...     ...     ...     ...     ...     ...     ...     ...   \n",
       "34622     13     189     189     190     190     192     193     193     193   \n",
       "34623     23     151     154     157     158     160     161     163     164   \n",
       "34624     18     174     174     174     174     174     175     175     174   \n",
       "34625     17     177     181     184     185     187     189     190     191   \n",
       "34626     23     179     180     180     180     182     181     182     183   \n",
       "\n",
       "       pixel9  ...  pixel775  pixel776  pixel777  pixel778  pixel779  \\\n",
       "0         151  ...       138       148       127        89        82   \n",
       "1         136  ...        47       104       194       183       186   \n",
       "2         147  ...        68       166       242       227       230   \n",
       "3         210  ...       154       248       247       248       253   \n",
       "4         203  ...        26        40        64        48        29   \n",
       "...       ...  ...       ...       ...       ...       ...       ...   \n",
       "34622     193  ...       132       165        99        77        52   \n",
       "34623     166  ...       198       198       198       198       198   \n",
       "34624     173  ...       121       196       209       208       206   \n",
       "34625     191  ...       119        56        27        58       102   \n",
       "34626     182  ...       108       132       170       194       214   \n",
       "\n",
       "       pixel780  pixel781  pixel782  pixel783  pixel784  \n",
       "0            96       106       112       120       107  \n",
       "1           184       184       184       182       180  \n",
       "2           227       226       225       224       222  \n",
       "3           236       230       240       253       255  \n",
       "4            46        49        46        46        53  \n",
       "...         ...       ...       ...       ...       ...  \n",
       "34622       200       234       200       222       225  \n",
       "34623       196       195       195       195       194  \n",
       "34624       204       203       202       200       200  \n",
       "34625        79        47        64        87        93  \n",
       "34626       203       197       205       209       215  \n",
       "\n",
       "[34627 rows x 785 columns]"
      ]
     },
     "execution_count": 47,
     "metadata": {},
     "output_type": "execute_result"
    }
   ],
   "source": [
    "df = pd.concat([testdf, traindf], axis = 0)\n",
    "df.reset_index(inplace = True, drop = True)\n",
    "df"
   ]
  },
  {
   "cell_type": "code",
   "execution_count": 48,
   "metadata": {},
   "outputs": [
    {
     "data": {
      "text/plain": [
       "((34627, 784), 0     6\n",
       " 1     5\n",
       " 2    10\n",
       " 3     0\n",
       " 4     3\n",
       " Name: label, dtype: int64)"
      ]
     },
     "execution_count": 48,
     "metadata": {},
     "output_type": "execute_result"
    }
   ],
   "source": [
    "labels = df['label']\n",
    "df.drop(columns =['label'], inplace = True)\n",
    "df.shape, labels.head()"
   ]
  },
  {
   "cell_type": "code",
   "execution_count": 49,
   "metadata": {
    "scrolled": false
   },
   "outputs": [
    {
     "data": {
      "text/plain": [
       "0     1457\n",
       "4     1455\n",
       "2     1454\n",
       "5     1451\n",
       "11    1450\n",
       "8     1450\n",
       "24    1450\n",
       "12    1449\n",
       "7     1449\n",
       "18    1445\n",
       "10    1445\n",
       "16    1443\n",
       "1     1442\n",
       "14    1442\n",
       "13    1442\n",
       "3     1441\n",
       "6     1438\n",
       "17    1438\n",
       "15    1435\n",
       "19    1434\n",
       "23    1431\n",
       "22    1431\n",
       "21    1428\n",
       "20    1427\n",
       "Name: label, dtype: int64"
      ]
     },
     "execution_count": 49,
     "metadata": {},
     "output_type": "execute_result"
    }
   ],
   "source": [
    "# no 9(J) or 25(Z)\n",
    "labels.value_counts()"
   ]
  },
  {
   "cell_type": "code",
   "execution_count": 50,
   "metadata": {},
   "outputs": [],
   "source": [
    "# label_binrizer = LabelBinarizer()\n",
    "# labels = label_binrizer.fit_transform(labels)"
   ]
  },
  {
   "cell_type": "code",
   "execution_count": 51,
   "metadata": {},
   "outputs": [],
   "source": [
    "images = df.values\n",
    "images = np.array([np.reshape(i, (28, 28)) for i in images])\n",
    "images = np.array([i.flatten() for i in images])"
   ]
  },
  {
   "cell_type": "code",
   "execution_count": 52,
   "metadata": {},
   "outputs": [],
   "source": [
    "images = images/255"
   ]
  },
  {
   "cell_type": "code",
   "execution_count": 53,
   "metadata": {},
   "outputs": [
    {
     "data": {
      "text/plain": [
       "<matplotlib.image.AxesImage at 0x13a8ba850>"
      ]
     },
     "execution_count": 53,
     "metadata": {},
     "output_type": "execute_result"
    },
    {
     "data": {
      "image/png": "[encoded data removed]",
      "text/plain": [
       "<Figure size 432x288 with 1 Axes>"
      ]
     },
     "metadata": {
      "needs_background": "light"
     },
     "output_type": "display_data"
    }
   ],
   "source": [
    "plt.imshow(images[0].reshape(28,28))"
   ]
  },
  {
   "cell_type": "code",
   "execution_count": 136,
   "metadata": {},
   "outputs": [
    {
     "data": {
      "text/plain": [
       "(25,)"
      ]
     },
     "execution_count": 136,
     "metadata": {},
     "output_type": "execute_result"
    }
   ],
   "source": [
    "label_train[0].shape"
   ]
  },
  {
   "cell_type": "code",
   "execution_count": 122,
   "metadata": {},
   "outputs": [],
   "source": [
    "image_train, image_test, label_train, label_test = train_test_split(images, labels, random_state=23, train_size=.8)"
   ]
  },
  {
   "cell_type": "code",
   "execution_count": 123,
   "metadata": {},
   "outputs": [],
   "source": [
    "num_classes = 25\n",
    "label_train = keras.utils.to_categorical(label_train, num_classes)\n",
    "label_test = keras.utils.to_categorical(label_test, num_classes)"
   ]
  },
  {
   "cell_type": "code",
   "execution_count": 72,
   "metadata": {},
   "outputs": [],
   "source": [
    "def visualize_training_results(results):\n",
    "    history = results.history\n",
    "    plt.figure()\n",
    "    plt.plot(history['val_loss'])\n",
    "    plt.plot(history['loss'])\n",
    "    plt.legend(['val_loss', 'loss'])\n",
    "    plt.title('Loss')\n",
    "    plt.xlabel('Epochs')\n",
    "    plt.ylabel('Loss')\n",
    "    plt.show()\n",
    "    \n",
    "    plt.figure()\n",
    "    plt.plot(history['val_accuracy'])\n",
    "    plt.plot(history['accuracy'])\n",
    "    plt.legend(['val_accuracy', 'accuracy'])\n",
    "    plt.title('Accuracy')\n",
    "    plt.xlabel('Epochs')\n",
    "    plt.ylabel('Accuracy')\n",
    "    plt.show()"
   ]
  },
  {
   "cell_type": "markdown",
   "metadata": {},
   "source": [
    "#  MLP"
   ]
  },
  {
   "cell_type": "markdown",
   "metadata": {},
   "source": [
    "## Relu"
   ]
  },
  {
   "cell_type": "code",
   "execution_count": 57,
   "metadata": {},
   "outputs": [],
   "source": [
    "model = models.Sequential()\n",
    "model.add(layers.Dense(30, activation='relu', input_shape=(784,)))\n",
    "model.add(layers.Dense(20, activation='relu'))\n",
    "model.add(layers.Dense(10, activation='relu'))\n",
    "model.add(layers.Dense(5, activation='relu'))\n",
    "model.add(layers.Dense(25, activation='sigmoid'))"
   ]
  },
  {
   "cell_type": "code",
   "execution_count": 58,
   "metadata": {
    "scrolled": true
   },
   "outputs": [
    {
     "name": "stdout",
     "output_type": "stream",
     "text": [
      "Train on 27701 samples, validate on 6926 samples\n",
      "Epoch 1/20\n",
      "27701/27701 [==============================] - 1s 54us/step - loss: 3.1959 - accuracy: 0.0318 - val_loss: 3.1588 - val_accuracy: 0.0273\n",
      "Epoch 2/20\n",
      "27701/27701 [==============================] - 1s 47us/step - loss: 3.1053 - accuracy: 0.0535 - val_loss: 3.0059 - val_accuracy: 0.0744\n",
      "Epoch 3/20\n",
      "27701/27701 [==============================] - 1s 48us/step - loss: 2.9035 - accuracy: 0.0858 - val_loss: 2.6971 - val_accuracy: 0.1021\n",
      "Epoch 4/20\n",
      "27701/27701 [==============================] - 1s 50us/step - loss: 2.5937 - accuracy: 0.1437 - val_loss: 2.3913 - val_accuracy: 0.1876\n",
      "Epoch 5/20\n",
      "27701/27701 [==============================] - 1s 49us/step - loss: 2.3455 - accuracy: 0.1964 - val_loss: 2.2395 - val_accuracy: 0.2161\n",
      "Epoch 6/20\n",
      "27701/27701 [==============================] - 1s 48us/step - loss: 2.1992 - accuracy: 0.2231 - val_loss: 2.1694 - val_accuracy: 0.2262\n",
      "Epoch 7/20\n",
      "27701/27701 [==============================] - 1s 49us/step - loss: 2.1145 - accuracy: 0.2512 - val_loss: 2.0628 - val_accuracy: 0.2501\n",
      "Epoch 8/20\n",
      "27701/27701 [==============================] - 1s 49us/step - loss: 1.9982 - accuracy: 0.2920 - val_loss: 2.0238 - val_accuracy: 0.2632\n",
      "Epoch 9/20\n",
      "27701/27701 [==============================] - 1s 48us/step - loss: 1.8797 - accuracy: 0.3356 - val_loss: 1.8442 - val_accuracy: 0.3527\n",
      "Epoch 10/20\n",
      "27701/27701 [==============================] - 1s 49us/step - loss: 1.7509 - accuracy: 0.3803 - val_loss: 1.9293 - val_accuracy: 0.3418\n",
      "Epoch 11/20\n",
      "27701/27701 [==============================] - 1s 49us/step - loss: 1.6652 - accuracy: 0.4129 - val_loss: 1.5718 - val_accuracy: 0.4433\n",
      "Epoch 12/20\n",
      "27701/27701 [==============================] - 1s 49us/step - loss: 1.5965 - accuracy: 0.4377 - val_loss: 1.6347 - val_accuracy: 0.4505\n",
      "Epoch 13/20\n",
      "27701/27701 [==============================] - 1s 49us/step - loss: 1.5043 - accuracy: 0.4682 - val_loss: 1.4964 - val_accuracy: 0.4454\n",
      "Epoch 14/20\n",
      "27701/27701 [==============================] - 1s 49us/step - loss: 1.4310 - accuracy: 0.4975 - val_loss: 1.3975 - val_accuracy: 0.4997\n",
      "Epoch 15/20\n",
      "27701/27701 [==============================] - 1s 50us/step - loss: 1.3865 - accuracy: 0.5142 - val_loss: 1.3062 - val_accuracy: 0.5248\n",
      "Epoch 16/20\n",
      "27701/27701 [==============================] - 1s 50us/step - loss: 1.2993 - accuracy: 0.5406 - val_loss: 2.2036 - val_accuracy: 0.3662\n",
      "Epoch 17/20\n",
      "27701/27701 [==============================] - 1s 49us/step - loss: 1.2435 - accuracy: 0.5617 - val_loss: 1.3792 - val_accuracy: 0.5049\n",
      "Epoch 18/20\n",
      "27701/27701 [==============================] - 1s 50us/step - loss: 1.2090 - accuracy: 0.5749 - val_loss: 1.0540 - val_accuracy: 0.6249\n",
      "Epoch 19/20\n",
      "27701/27701 [==============================] - 1s 50us/step - loss: 1.1353 - accuracy: 0.5998 - val_loss: 1.0081 - val_accuracy: 0.6457\n",
      "Epoch 20/20\n",
      "27701/27701 [==============================] - 1s 50us/step - loss: 1.0804 - accuracy: 0.6170 - val_loss: 1.0208 - val_accuracy: 0.6382\n"
     ]
    }
   ],
   "source": [
    "model.compile(optimizer ='sgd' ,loss='categorical_crossentropy',metrics=['accuracy'])\n",
    "\n",
    "histoire = model.fit(image_train,\n",
    "                    label_train,\n",
    "                    epochs=20,\n",
    "                    batch_size=32,\n",
    "                    validation_data=(image_test, label_test))"
   ]
  },
  {
   "cell_type": "code",
   "execution_count": 73,
   "metadata": {
    "scrolled": true
   },
   "outputs": [
    {
     "data": {
      "image/png": "[encoded data removed]",
      "text/plain": [
       "<Figure size 432x288 with 1 Axes>"
      ]
     },
     "metadata": {
      "needs_background": "light"
     },
     "output_type": "display_data"
    },
    {
     "data": {
      "image/png": "[encoded data removed]",
      "text/plain": [
       "<Figure size 432x288 with 1 Axes>"
      ]
     },
     "metadata": {
      "needs_background": "light"
     },
     "output_type": "display_data"
    }
   ],
   "source": [
    "visualize_training_results(histoire)"
   ]
  },
  {
   "cell_type": "markdown",
   "metadata": {},
   "source": [
    "## Softmax"
   ]
  },
  {
   "cell_type": "code",
   "execution_count": 63,
   "metadata": {},
   "outputs": [],
   "source": [
    "model2 = models.Sequential()\n",
    "model2.add(layers.Dense(80, activation='relu', input_shape=(784,)))\n",
    "model2.add(layers.Dense(40, activation='relu'))\n",
    "model2.add(layers.Dense(20, activation='relu'))\n",
    "model2.add(layers.Dense(10, activation='relu'))\n",
    "model2.add(layers.Dense(25, activation='softmax'))"
   ]
  },
  {
   "cell_type": "code",
   "execution_count": 64,
   "metadata": {
    "scrolled": true
   },
   "outputs": [
    {
     "name": "stdout",
     "output_type": "stream",
     "text": [
      "Train on 27701 samples, validate on 6926 samples\n",
      "Epoch 1/20\n",
      "27701/27701 [==============================] - 2s 57us/step - loss: 3.1306 - accuracy: 0.0877 - val_loss: 2.9539 - val_accuracy: 0.1061\n",
      "Epoch 2/20\n",
      "27701/27701 [==============================] - 1s 54us/step - loss: 2.6853 - accuracy: 0.1634 - val_loss: 2.7307 - val_accuracy: 0.1457\n",
      "Epoch 3/20\n",
      "27701/27701 [==============================] - 1s 54us/step - loss: 2.1226 - accuracy: 0.2981 - val_loss: 1.8478 - val_accuracy: 0.3858\n",
      "Epoch 4/20\n",
      "27701/27701 [==============================] - 1s 54us/step - loss: 1.8258 - accuracy: 0.3820 - val_loss: 1.7599 - val_accuracy: 0.4050\n",
      "Epoch 5/20\n",
      "27701/27701 [==============================] - 2s 55us/step - loss: 1.6454 - accuracy: 0.4387 - val_loss: 1.4652 - val_accuracy: 0.4975\n",
      "Epoch 6/20\n",
      "27701/27701 [==============================] - 2s 55us/step - loss: 1.4720 - accuracy: 0.4923 - val_loss: 1.5282 - val_accuracy: 0.4730\n",
      "Epoch 7/20\n",
      "27701/27701 [==============================] - 2s 55us/step - loss: 1.3183 - accuracy: 0.5417 - val_loss: 2.0775 - val_accuracy: 0.3572\n",
      "Epoch 8/20\n",
      "27701/27701 [==============================] - 2s 73us/step - loss: 1.1834 - accuracy: 0.5872 - val_loss: 1.1180 - val_accuracy: 0.5881\n",
      "Epoch 9/20\n",
      "27701/27701 [==============================] - 2s 69us/step - loss: 1.0726 - accuracy: 0.6278 - val_loss: 1.1174 - val_accuracy: 0.6174\n",
      "Epoch 10/20\n",
      "27701/27701 [==============================] - 2s 60us/step - loss: 0.9469 - accuracy: 0.6653 - val_loss: 1.1149 - val_accuracy: 0.5858\n",
      "Epoch 11/20\n",
      "27701/27701 [==============================] - 1s 49us/step - loss: 0.8400 - accuracy: 0.7078 - val_loss: 0.7486 - val_accuracy: 0.7329\n",
      "Epoch 12/20\n",
      "27701/27701 [==============================] - 1s 48us/step - loss: 0.7411 - accuracy: 0.7385 - val_loss: 0.7904 - val_accuracy: 0.7296\n",
      "Epoch 13/20\n",
      "27701/27701 [==============================] - 2s 63us/step - loss: 0.6655 - accuracy: 0.7709 - val_loss: 0.5779 - val_accuracy: 0.7921\n",
      "Epoch 14/20\n",
      "27701/27701 [==============================] - 1s 49us/step - loss: 0.5954 - accuracy: 0.7907 - val_loss: 0.6421 - val_accuracy: 0.7629\n",
      "Epoch 15/20\n",
      "27701/27701 [==============================] - 2s 66us/step - loss: 0.5470 - accuracy: 0.8122 - val_loss: 0.4446 - val_accuracy: 0.8485\n",
      "Epoch 16/20\n",
      "27701/27701 [==============================] - 2s 59us/step - loss: 0.4480 - accuracy: 0.8444 - val_loss: 0.5552 - val_accuracy: 0.7878\n",
      "Epoch 17/20\n",
      "27701/27701 [==============================] - 2s 57us/step - loss: 0.4593 - accuracy: 0.8460 - val_loss: 0.6088 - val_accuracy: 0.7720\n",
      "Epoch 18/20\n",
      "27701/27701 [==============================] - 1s 49us/step - loss: 0.3834 - accuracy: 0.8721 - val_loss: 0.6081 - val_accuracy: 0.7914\n",
      "Epoch 19/20\n",
      "27701/27701 [==============================] - 1s 48us/step - loss: 0.3513 - accuracy: 0.8864 - val_loss: 0.3173 - val_accuracy: 0.8911\n",
      "Epoch 20/20\n",
      "27701/27701 [==============================] - 2s 61us/step - loss: 0.3085 - accuracy: 0.9016 - val_loss: 0.3037 - val_accuracy: 0.8955\n"
     ]
    }
   ],
   "source": [
    "model2.compile(optimizer ='sgd' ,loss='categorical_crossentropy',metrics=['accuracy'])\n",
    "\n",
    "history = model2.fit(image_train,\n",
    "                    label_train,\n",
    "                    epochs=20,\n",
    "                    batch_size=32,\n",
    "                    validation_data=(image_test, label_test))"
   ]
  },
  {
   "cell_type": "code",
   "execution_count": 74,
   "metadata": {
    "scrolled": true
   },
   "outputs": [
    {
     "data": {
      "image/png": "[encoded data removed]",
      "text/plain": [
       "<Figure size 432x288 with 1 Axes>"
      ]
     },
     "metadata": {
      "needs_background": "light"
     },
     "output_type": "display_data"
    },
    {
     "data": {
      "image/png": "[encoded data removed]",
      "text/plain": [
       "<Figure size 432x288 with 1 Axes>"
      ]
     },
     "metadata": {
      "needs_background": "light"
     },
     "output_type": "display_data"
    }
   ],
   "source": [
    "visualize_training_results(history)"
   ]
  },
  {
   "cell_type": "markdown",
   "metadata": {},
   "source": [
    "### Hypertuning"
   ]
  },
  {
   "cell_type": "code",
   "execution_count": 76,
   "metadata": {
    "scrolled": true
   },
   "outputs": [
    {
     "name": "stdout",
     "output_type": "stream",
     "text": [
      "Train on 27701 samples, validate on 6926 samples\n",
      "Epoch 1/20\n",
      "27701/27701 [==============================] - 2s 75us/step - loss: 3.3595 - accuracy: 0.0870 - val_loss: 3.1290 - val_accuracy: 0.1565\n",
      "Epoch 2/20\n",
      "27701/27701 [==============================] - 2s 59us/step - loss: 2.8518 - accuracy: 0.1735 - val_loss: 2.6276 - val_accuracy: 0.1760\n",
      "Epoch 3/20\n",
      "27701/27701 [==============================] - 2s 64us/step - loss: 2.3622 - accuracy: 0.2754 - val_loss: 2.5798 - val_accuracy: 0.2307\n",
      "Epoch 4/20\n",
      "27701/27701 [==============================] - 2s 61us/step - loss: 2.0340 - accuracy: 0.3633 - val_loss: 1.9295 - val_accuracy: 0.3955\n",
      "Epoch 5/20\n",
      "27701/27701 [==============================] - 2s 57us/step - loss: 1.8080 - accuracy: 0.4340 - val_loss: 1.7420 - val_accuracy: 0.4487\n",
      "Epoch 6/20\n",
      "27701/27701 [==============================] - 2s 57us/step - loss: 1.6090 - accuracy: 0.4939 - val_loss: 1.4618 - val_accuracy: 0.5414\n",
      "Epoch 7/20\n",
      "27701/27701 [==============================] - 2s 57us/step - loss: 1.4402 - accuracy: 0.5470 - val_loss: 1.3256 - val_accuracy: 0.5848\n",
      "Epoch 8/20\n",
      "27701/27701 [==============================] - 2s 58us/step - loss: 1.2935 - accuracy: 0.5929 - val_loss: 1.2423 - val_accuracy: 0.6110\n",
      "Epoch 9/20\n",
      "27701/27701 [==============================] - 2s 57us/step - loss: 1.1706 - accuracy: 0.6379 - val_loss: 0.9992 - val_accuracy: 0.6956\n",
      "Epoch 10/20\n",
      "27701/27701 [==============================] - 2s 58us/step - loss: 1.0407 - accuracy: 0.6797 - val_loss: 0.9788 - val_accuracy: 0.6912\n",
      "Epoch 11/20\n",
      "27701/27701 [==============================] - 2s 59us/step - loss: 0.9242 - accuracy: 0.7160 - val_loss: 1.1642 - val_accuracy: 0.6092\n",
      "Epoch 12/20\n",
      "27701/27701 [==============================] - 2s 57us/step - loss: 0.8370 - accuracy: 0.7455 - val_loss: 0.8454 - val_accuracy: 0.7430\n",
      "Epoch 13/20\n",
      "27701/27701 [==============================] - 2s 58us/step - loss: 0.7519 - accuracy: 0.7761 - val_loss: 1.2839 - val_accuracy: 0.5924\n",
      "Epoch 14/20\n",
      "27701/27701 [==============================] - 2s 59us/step - loss: 0.6873 - accuracy: 0.7970 - val_loss: 1.1845 - val_accuracy: 0.6232\n",
      "Epoch 15/20\n",
      "27701/27701 [==============================] - 2s 58us/step - loss: 0.6655 - accuracy: 0.8130 - val_loss: 0.5398 - val_accuracy: 0.8406\n",
      "Epoch 16/20\n",
      "27701/27701 [==============================] - 2s 58us/step - loss: 0.5952 - accuracy: 0.8343 - val_loss: 0.4183 - val_accuracy: 0.9011\n",
      "Epoch 17/20\n",
      "27701/27701 [==============================] - 2s 59us/step - loss: 0.5327 - accuracy: 0.8574 - val_loss: 0.4566 - val_accuracy: 0.8761\n",
      "Epoch 18/20\n",
      "27701/27701 [==============================] - 2s 59us/step - loss: 0.4884 - accuracy: 0.8708 - val_loss: 0.5248 - val_accuracy: 0.8431\n",
      "Epoch 19/20\n",
      "27701/27701 [==============================] - 2s 61us/step - loss: 0.4386 - accuracy: 0.8893 - val_loss: 0.3171 - val_accuracy: 0.9272\n",
      "Epoch 20/20\n",
      "27701/27701 [==============================] - 2s 59us/step - loss: 0.4751 - accuracy: 0.8803 - val_loss: 0.3602 - val_accuracy: 0.9066\n"
     ]
    }
   ],
   "source": [
    "model3 = models.Sequential()\n",
    "model3.add(layers.Dense(80, activation='relu', input_shape=(784,)))\n",
    "model3.add(layers.Dense(40, activation='relu', kernel_regularizer=regularizers.l2(0.005),))\n",
    "model3.add(layers.Dense(20, activation='relu'))\n",
    "model3.add(layers.Dense(10, activation='relu'))\n",
    "model3.add(layers.Dense(25, activation='softmax'))\n",
    "\n",
    "model3.compile(optimizer ='sgd' ,loss='categorical_crossentropy',metrics=['accuracy'])\n",
    "\n",
    "history3 = model3.fit(image_train,\n",
    "                    label_train,\n",
    "                    epochs=20,\n",
    "                    batch_size=32,\n",
    "                    validation_data=(image_test, label_test))"
   ]
  },
  {
   "cell_type": "markdown",
   "metadata": {},
   "source": [
    "# CNN"
   ]
  },
  {
   "cell_type": "code",
   "execution_count": 129,
   "metadata": {},
   "outputs": [],
   "source": [
    "image_train  = np.array([np.reshape(i, (28, 28)) for i in image_train])\n",
    "image_test  = np.array([np.reshape(i, (28, 28)) for i in image_test])\n"
   ]
  },
  {
   "cell_type": "code",
   "execution_count": 137,
   "metadata": {},
   "outputs": [],
   "source": [
    "modelcnn = models.Sequential()\n",
    "modelcnn.add(layers.Conv1D(32, (3), activation='relu',\n",
    "                        input_shape=(28, 28)))\n",
    "modelcnn.add(layers.MaxPooling1D((2)))\n",
    "\n",
    "modelcnn.add(layers.Conv1D(32, (4), activation='relu'))\n",
    "modelcnn.add(layers.MaxPooling1D((2)))\n",
    "\n",
    "modelcnn.add(layers.Conv1D(64, (3), activation='relu'))\n",
    "modelcnn.add(layers.MaxPooling1D((2)))\n",
    "\n",
    "modelcnn.add(layers.Flatten())\n",
    "modelcnn.add(layers.Dense(64, activation='relu'))\n",
    "modelcnn.add(layers.Dense(25, activation='softmax'))\n",
    "\n",
    "modelcnn.compile(loss='categorical_crossentropy',\n",
    "              optimizer=\"sgd\",\n",
    "              metrics=['accuracy'])"
   ]
  },
  {
   "cell_type": "code",
   "execution_count": 139,
   "metadata": {},
   "outputs": [
    {
     "name": "stdout",
     "output_type": "stream",
     "text": [
      "Train on 27701 samples, validate on 6926 samples\n",
      "Epoch 1/20\n",
      "27701/27701 [==============================] - 7s 241us/step - loss: 0.2617 - accuracy: 0.9148 - val_loss: 0.2666 - val_accuracy: 0.9163\n",
      "Epoch 2/20\n",
      "27701/27701 [==============================] - 6s 230us/step - loss: 0.2045 - accuracy: 0.9355 - val_loss: 0.2053 - val_accuracy: 0.9310\n",
      "Epoch 3/20\n",
      "27701/27701 [==============================] - 6s 215us/step - loss: 0.1533 - accuracy: 0.9548 - val_loss: 0.2673 - val_accuracy: 0.9025\n",
      "Epoch 4/20\n",
      "27701/27701 [==============================] - 6s 201us/step - loss: 0.1242 - accuracy: 0.9642 - val_loss: 0.1030 - val_accuracy: 0.9675\n",
      "Epoch 5/20\n",
      "27701/27701 [==============================] - 6s 215us/step - loss: 0.0966 - accuracy: 0.9730 - val_loss: 0.0769 - val_accuracy: 0.9809\n",
      "Epoch 6/20\n",
      "27701/27701 [==============================] - 8s 292us/step - loss: 0.0962 - accuracy: 0.9738 - val_loss: 0.0624 - val_accuracy: 0.9850\n",
      "Epoch 7/20\n",
      "27701/27701 [==============================] - 8s 298us/step - loss: 0.0523 - accuracy: 0.9890 - val_loss: 0.0599 - val_accuracy: 0.9825\n",
      "Epoch 8/20\n",
      "27701/27701 [==============================] - 6s 219us/step - loss: 0.0566 - accuracy: 0.9882 - val_loss: 0.0397 - val_accuracy: 0.9934\n",
      "Epoch 9/20\n",
      "27701/27701 [==============================] - 6s 230us/step - loss: 0.0407 - accuracy: 0.9914 - val_loss: 0.0308 - val_accuracy: 0.9965\n",
      "Epoch 10/20\n",
      "27701/27701 [==============================] - 7s 263us/step - loss: 0.0478 - accuracy: 0.9918 - val_loss: 0.1120 - val_accuracy: 0.9630\n",
      "Epoch 11/20\n",
      "27701/27701 [==============================] - 9s 316us/step - loss: 0.0262 - accuracy: 0.9962 - val_loss: 0.0210 - val_accuracy: 0.9977\n",
      "Epoch 12/20\n",
      "27701/27701 [==============================] - 7s 243us/step - loss: 0.0186 - accuracy: 0.9979 - val_loss: 0.0175 - val_accuracy: 0.9984\n",
      "Epoch 13/20\n",
      "27701/27701 [==============================] - 8s 274us/step - loss: 0.0146 - accuracy: 0.9989 - val_loss: 0.1213 - val_accuracy: 0.9623\n",
      "Epoch 14/20\n",
      "27701/27701 [==============================] - 10s 346us/step - loss: 0.0576 - accuracy: 0.9918 - val_loss: 0.0136 - val_accuracy: 0.9999\n",
      "Epoch 15/20\n",
      "27701/27701 [==============================] - 9s 330us/step - loss: 0.0122 - accuracy: 0.9990 - val_loss: 0.0159 - val_accuracy: 0.9975\n",
      "Epoch 16/20\n",
      "27701/27701 [==============================] - 11s 401us/step - loss: 0.0205 - accuracy: 0.9970 - val_loss: 0.0114 - val_accuracy: 0.9991\n",
      "Epoch 17/20\n",
      "27701/27701 [==============================] - 9s 310us/step - loss: 0.0084 - accuracy: 0.9996 - val_loss: 0.0095 - val_accuracy: 0.9993\n",
      "Epoch 18/20\n",
      "27701/27701 [==============================] - 7s 246us/step - loss: 0.0070 - accuracy: 0.9997 - val_loss: 0.0081 - val_accuracy: 0.9994\n",
      "Epoch 19/20\n",
      "27701/27701 [==============================] - 6s 230us/step - loss: 0.0058 - accuracy: 0.9998 - val_loss: 0.0069 - val_accuracy: 0.9994\n",
      "Epoch 20/20\n",
      "27701/27701 [==============================] - 6s 230us/step - loss: 0.0054 - accuracy: 0.9999 - val_loss: 0.0068 - val_accuracy: 0.9994\n"
     ]
    }
   ],
   "source": [
    "results = modelcnn.fit(image_train,\n",
    "                      label_train,\n",
    "                      epochs = 20,\n",
    "                      batch_size=32,\n",
    "                      validation_data=(image_test, label_test))"
   ]
  },
  {
   "cell_type": "code",
   "execution_count": 141,
   "metadata": {},
   "outputs": [
    {
     "data": {
      "image/png": "[encoded data removed]",
      "text/plain": [
       "<Figure size 432x288 with 1 Axes>"
      ]
     },
     "metadata": {
      "needs_background": "light"
     },
     "output_type": "display_data"
    },
    {
     "data": {
      "image/png": "[encoded data removed]",
      "text/plain": [
       "<Figure size 432x288 with 1 Axes>"
      ]
     },
     "metadata": {
      "needs_background": "light"
     },
     "output_type": "display_data"
    }
   ],
   "source": [
    "visualize_training_results(results)"
   ]
  },
  {
   "cell_type": "code",
   "execution_count": null,
   "metadata": {},
   "outputs": [],
   "source": []
  }
 ],
 "metadata": {
  "kernelspec": {
   "display_name": "Python 3",
   "language": "python",
   "name": "python3"
  },
  "language_info": {
   "codemirror_mode": {
    "name": "ipython",
    "version": 3
   },
   "file_extension": ".py",
   "mimetype": "text/x-python",
   "name": "python",
   "nbconvert_exporter": "python",
   "pygments_lexer": "ipython3",
   "version": "3.7.4"
  },
  "toc": {
   "base_numbering": 1,
   "nav_menu": {},
   "number_sections": true,
   "sideBar": true,
   "skip_h1_title": false,
   "title_cell": "Table of Contents",
   "title_sidebar": "Contents",
   "toc_cell": false,
   "toc_position": {
    "height": "calc(100% - 180px)",
    "left": "10px",
    "top": "150px",
    "width": "288px"
   },
   "toc_section_display": true,
   "toc_window_display": true
  },
  "varInspector": {
   "cols": {
    "lenName": 16,
    "lenType": 16,
    "lenVar": 40
   },
   "kernels_config": {
    "python": {
     "delete_cmd_postfix": "",
     "delete_cmd_prefix": "del ",
     "library": "var_list.py",
     "varRefreshCmd": "print(var_dic_list())"
    },
    "r": {
     "delete_cmd_postfix": ") ",
     "delete_cmd_prefix": "rm(",
     "library": "var_list.r",
     "varRefreshCmd": "cat(var_dic_list()) "
    }
   },
   "types_to_exclude": [
    "module",
    "function",
    "builtin_function_or_method",
    "instance",
    "_Feature"
   ],
   "window_display": false
  }
 },
 "nbformat": 4,
 "nbformat_minor": 2
}
